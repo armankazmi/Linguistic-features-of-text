{
 "cells": [
  {
   "cell_type": "code",
   "execution_count": 1,
   "metadata": {},
   "outputs": [],
   "source": [
    "import numpy as np\n",
    "import pandas as pd\n",
    "from sklearn.metrics import classification_report, confusion_matrix"
   ]
  },
  {
   "cell_type": "markdown",
   "metadata": {},
   "source": [
    "## Accuracy of 28 best features on Baby BNC Corpus"
   ]
  },
  {
   "cell_type": "markdown",
   "metadata": {},
   "source": []
  },
  {
   "cell_type": "code",
   "execution_count": 2,
   "metadata": {},
   "outputs": [],
   "source": [
    "df_bnc = pd.read_csv('../data/baby_bnc_corpus_features.csv', index_col=0)"
   ]
  },
  {
   "cell_type": "code",
   "execution_count": 3,
   "metadata": {},
   "outputs": [
    {
     "data": {
      "text/html": [
       "<div>\n",
       "<style scoped>\n",
       "    .dataframe tbody tr th:only-of-type {\n",
       "        vertical-align: middle;\n",
       "    }\n",
       "\n",
       "    .dataframe tbody tr th {\n",
       "        vertical-align: top;\n",
       "    }\n",
       "\n",
       "    .dataframe thead th {\n",
       "        text-align: right;\n",
       "    }\n",
       "</style>\n",
       "<table border=\"1\" class=\"dataframe\">\n",
       "  <thead>\n",
       "    <tr style=\"text-align: right;\">\n",
       "      <th></th>\n",
       "      <th>count</th>\n",
       "      <th>mean</th>\n",
       "      <th>std</th>\n",
       "      <th>min</th>\n",
       "      <th>25%</th>\n",
       "      <th>50%</th>\n",
       "      <th>75%</th>\n",
       "      <th>max</th>\n",
       "    </tr>\n",
       "  </thead>\n",
       "  <tbody>\n",
       "    <tr>\n",
       "      <th>avg_sen_len</th>\n",
       "      <td>2026.0</td>\n",
       "      <td>13.566206</td>\n",
       "      <td>7.248457</td>\n",
       "      <td>2.400000</td>\n",
       "      <td>8.000000</td>\n",
       "      <td>11.800000</td>\n",
       "      <td>17.400000</td>\n",
       "      <td>44.600000</td>\n",
       "    </tr>\n",
       "    <tr>\n",
       "      <th>std_sen_len</th>\n",
       "      <td>2026.0</td>\n",
       "      <td>6.744896</td>\n",
       "      <td>4.231069</td>\n",
       "      <td>0.489898</td>\n",
       "      <td>3.773592</td>\n",
       "      <td>5.710662</td>\n",
       "      <td>8.699885</td>\n",
       "      <td>37.626586</td>\n",
       "    </tr>\n",
       "    <tr>\n",
       "      <th>TTR</th>\n",
       "      <td>2026.0</td>\n",
       "      <td>0.728749</td>\n",
       "      <td>1.504812</td>\n",
       "      <td>-1.502650</td>\n",
       "      <td>-0.473126</td>\n",
       "      <td>0.375181</td>\n",
       "      <td>1.557037</td>\n",
       "      <td>9.340900</td>\n",
       "    </tr>\n",
       "    <tr>\n",
       "      <th>Root TTR</th>\n",
       "      <td>2026.0</td>\n",
       "      <td>0.662709</td>\n",
       "      <td>1.329799</td>\n",
       "      <td>-2.040984</td>\n",
       "      <td>-0.404161</td>\n",
       "      <td>0.516446</td>\n",
       "      <td>1.552887</td>\n",
       "      <td>5.470900</td>\n",
       "    </tr>\n",
       "    <tr>\n",
       "      <th>Log TTR</th>\n",
       "      <td>2026.0</td>\n",
       "      <td>0.650362</td>\n",
       "      <td>1.299088</td>\n",
       "      <td>-2.187525</td>\n",
       "      <td>-0.392280</td>\n",
       "      <td>0.536187</td>\n",
       "      <td>1.545283</td>\n",
       "      <td>5.563742</td>\n",
       "    </tr>\n",
       "    <tr>\n",
       "      <th>...</th>\n",
       "      <td>...</td>\n",
       "      <td>...</td>\n",
       "      <td>...</td>\n",
       "      <td>...</td>\n",
       "      <td>...</td>\n",
       "      <td>...</td>\n",
       "      <td>...</td>\n",
       "      <td>...</td>\n",
       "    </tr>\n",
       "    <tr>\n",
       "      <th>('AUX', 'INTJ', 'before')</th>\n",
       "      <td>2026.0</td>\n",
       "      <td>0.000494</td>\n",
       "      <td>0.022217</td>\n",
       "      <td>0.000000</td>\n",
       "      <td>0.000000</td>\n",
       "      <td>0.000000</td>\n",
       "      <td>0.000000</td>\n",
       "      <td>1.000000</td>\n",
       "    </tr>\n",
       "    <tr>\n",
       "      <th>('SYM', 'ADP', 'after')</th>\n",
       "      <td>2026.0</td>\n",
       "      <td>0.000494</td>\n",
       "      <td>0.022217</td>\n",
       "      <td>0.000000</td>\n",
       "      <td>0.000000</td>\n",
       "      <td>0.000000</td>\n",
       "      <td>0.000000</td>\n",
       "      <td>1.000000</td>\n",
       "    </tr>\n",
       "    <tr>\n",
       "      <th>('ADJ', 'SYM', 'before')</th>\n",
       "      <td>2026.0</td>\n",
       "      <td>0.000494</td>\n",
       "      <td>0.022217</td>\n",
       "      <td>0.000000</td>\n",
       "      <td>0.000000</td>\n",
       "      <td>0.000000</td>\n",
       "      <td>0.000000</td>\n",
       "      <td>1.000000</td>\n",
       "    </tr>\n",
       "    <tr>\n",
       "      <th>('SYM', 'NUM', 'before')</th>\n",
       "      <td>2026.0</td>\n",
       "      <td>0.000987</td>\n",
       "      <td>0.031411</td>\n",
       "      <td>0.000000</td>\n",
       "      <td>0.000000</td>\n",
       "      <td>0.000000</td>\n",
       "      <td>0.000000</td>\n",
       "      <td>1.000000</td>\n",
       "    </tr>\n",
       "    <tr>\n",
       "      <th>('NOUN', 'SYM', 'before')</th>\n",
       "      <td>2026.0</td>\n",
       "      <td>0.000494</td>\n",
       "      <td>0.022217</td>\n",
       "      <td>0.000000</td>\n",
       "      <td>0.000000</td>\n",
       "      <td>0.000000</td>\n",
       "      <td>0.000000</td>\n",
       "      <td>1.000000</td>\n",
       "    </tr>\n",
       "  </tbody>\n",
       "</table>\n",
       "<p>386 rows × 8 columns</p>\n",
       "</div>"
      ],
      "text/plain": [
       "                            count       mean       std       min       25%  \\\n",
       "avg_sen_len                2026.0  13.566206  7.248457  2.400000  8.000000   \n",
       "std_sen_len                2026.0   6.744896  4.231069  0.489898  3.773592   \n",
       "TTR                        2026.0   0.728749  1.504812 -1.502650 -0.473126   \n",
       "Root TTR                   2026.0   0.662709  1.329799 -2.040984 -0.404161   \n",
       "Log TTR                    2026.0   0.650362  1.299088 -2.187525 -0.392280   \n",
       "...                           ...        ...       ...       ...       ...   \n",
       "('AUX', 'INTJ', 'before')  2026.0   0.000494  0.022217  0.000000  0.000000   \n",
       "('SYM', 'ADP', 'after')    2026.0   0.000494  0.022217  0.000000  0.000000   \n",
       "('ADJ', 'SYM', 'before')   2026.0   0.000494  0.022217  0.000000  0.000000   \n",
       "('SYM', 'NUM', 'before')   2026.0   0.000987  0.031411  0.000000  0.000000   \n",
       "('NOUN', 'SYM', 'before')  2026.0   0.000494  0.022217  0.000000  0.000000   \n",
       "\n",
       "                                 50%        75%        max  \n",
       "avg_sen_len                11.800000  17.400000  44.600000  \n",
       "std_sen_len                 5.710662   8.699885  37.626586  \n",
       "TTR                         0.375181   1.557037   9.340900  \n",
       "Root TTR                    0.516446   1.552887   5.470900  \n",
       "Log TTR                     0.536187   1.545283   5.563742  \n",
       "...                              ...        ...        ...  \n",
       "('AUX', 'INTJ', 'before')   0.000000   0.000000   1.000000  \n",
       "('SYM', 'ADP', 'after')     0.000000   0.000000   1.000000  \n",
       "('ADJ', 'SYM', 'before')    0.000000   0.000000   1.000000  \n",
       "('SYM', 'NUM', 'before')    0.000000   0.000000   1.000000  \n",
       "('NOUN', 'SYM', 'before')   0.000000   0.000000   1.000000  \n",
       "\n",
       "[386 rows x 8 columns]"
      ]
     },
     "execution_count": 3,
     "metadata": {},
     "output_type": "execute_result"
    }
   ],
   "source": [
    "df_bnc.describe().transpose()"
   ]
  },
  {
   "cell_type": "code",
   "execution_count": 4,
   "metadata": {},
   "outputs": [
    {
     "data": {
      "text/plain": [
       "label\n",
       "1    1783\n",
       "0     243\n",
       "Name: count, dtype: int64"
      ]
     },
     "execution_count": 4,
     "metadata": {},
     "output_type": "execute_result"
    }
   ],
   "source": [
    "df_bnc.label.value_counts()"
   ]
  },
  {
   "cell_type": "code",
   "execution_count": null,
   "metadata": {},
   "outputs": [],
   "source": []
  },
  {
   "cell_type": "markdown",
   "metadata": {},
   "source": [
    "#### Since there are more fiction paragraphs then  non-fiction paragraphs. So, randomly sampling 250 paragraphs of fiction to test the best model's accuracy"
   ]
  },
  {
   "cell_type": "code",
   "execution_count": 8,
   "metadata": {},
   "outputs": [],
   "source": [
    "import pickle\n",
    "with open(\"../resources/full_trained_final_model.pickle\", 'rb') as fp:\n",
    "    model = pickle.load(fp)"
   ]
  },
  {
   "cell_type": "code",
   "execution_count": 9,
   "metadata": {},
   "outputs": [],
   "source": [
    "## Best feature set\n",
    "feat = ['TTR',\n",
    " 'Maas TTR',\n",
    " 'VocD',\n",
    " 'adverb/pronoun',\n",
    " 'noun/verb',\n",
    " 'mark',\n",
    " 'nsubj',\n",
    " 'nummod',\n",
    " 'acl:relcl',\n",
    " 'nmod:poss',\n",
    " 'flat',\n",
    " 'fixed',\n",
    " 'aux:pass',\n",
    " 'obl:npmod',\n",
    " 'discourse',\n",
    " \"('VERB', 'ADV', 'before')\",\n",
    " \"('VERB', 'PROPN', 'after')\",\n",
    " \"('VERB', 'ADP', 'before')\",\n",
    " \"('ADJ', 'SCONJ', 'after')\",\n",
    " \"('VERB', 'PRON', 'before')\",\n",
    " \"('VERB', 'SCONJ', 'after')\",\n",
    " \"('PRON', 'VERB', 'before')\",\n",
    " \"('PRON', 'NOUN', 'before')\",\n",
    " \"('PROPN', 'NUM', 'before')\",\n",
    " \"('PROPN', 'PROPN', 'after')\",\n",
    " \"('VERB', 'NUM', 'before')\",\n",
    " 'std_sen_len',\n",
    " 'content/function']"
   ]
  },
  {
   "cell_type": "code",
   "execution_count": 10,
   "metadata": {},
   "outputs": [
    {
     "data": {
      "text/plain": [
       "28"
      ]
     },
     "execution_count": 10,
     "metadata": {},
     "output_type": "execute_result"
    }
   ],
   "source": [
    "len(feat)"
   ]
  },
  {
   "cell_type": "code",
   "execution_count": 11,
   "metadata": {},
   "outputs": [
    {
     "data": {
      "text/plain": [
       "Index(['id', 'label', 'TTR', 'Maas TTR', 'VocD', 'adverb/pronoun', 'noun/verb',\n",
       "       'mark', 'nsubj', 'nummod', 'acl:relcl', 'nmod:poss', 'flat', 'fixed',\n",
       "       'aux:pass', 'obl:npmod', 'discourse', '('VERB', 'ADV', 'before')',\n",
       "       '('VERB', 'PROPN', 'after')', '('VERB', 'ADP', 'before')',\n",
       "       '('ADJ', 'SCONJ', 'after')', '('VERB', 'PRON', 'before')',\n",
       "       '('VERB', 'SCONJ', 'after')', '('PRON', 'VERB', 'before')',\n",
       "       '('PRON', 'NOUN', 'before')', '('PROPN', 'NUM', 'before')',\n",
       "       '('PROPN', 'PROPN', 'after')', '('VERB', 'NUM', 'before')',\n",
       "       'std_sen_len', 'content/function'],\n",
       "      dtype='object')"
      ]
     },
     "execution_count": 11,
     "metadata": {},
     "output_type": "execute_result"
    }
   ],
   "source": [
    "df_bnc_best_feat = df_bnc[['id', 'label'] + feat]\n",
    "df_bnc_best_feat.columns"
   ]
  },
  {
   "cell_type": "code",
   "execution_count": 12,
   "metadata": {},
   "outputs": [],
   "source": [
    "df_non_fict = df_bnc_best_feat[df_bnc_best_feat.label == 0].reset_index()\n",
    "df_non_fict.drop(['index'], axis=1, inplace=True)"
   ]
  },
  {
   "cell_type": "code",
   "execution_count": 13,
   "metadata": {},
   "outputs": [
    {
     "name": "stdout",
     "output_type": "stream",
     "text": [
      "(493, 28)\n",
      "(493, 28)\n",
      "(493, 28)\n",
      "(493, 28)\n",
      "(493, 28)\n",
      "(493, 28)\n",
      "(493, 28)\n",
      "(493, 28)\n",
      "(493, 28)\n",
      "(493, 28)\n"
     ]
    }
   ],
   "source": [
    "X_preds = {}\n",
    "Y_org = {}\n",
    "scores = []\n",
    "f1_fiction = []\n",
    "f1_non_fiction = []\n",
    "for i in range(10):\n",
    "    df_fict = df_bnc_best_feat[df_bnc_best_feat.label == 1].sample(250, random_state=i).reset_index()\n",
    "    df_fict.drop(['index'], axis=1, inplace=True)\n",
    "    df_final = pd.concat([df_non_fict, df_fict], join='outer', ignore_index=True)\n",
    "    X_test = df_final.drop(columns=['id', 'label'])\n",
    "    print(X_test.shape)\n",
    "    Y_test = df_final.label\n",
    "    X_pred = model.predict(X_test)\n",
    "    score_ = model.score(X_test, Y_test)\n",
    "    report = classification_report(Y_test, X_pred, output_dict=True)\n",
    "    f1_fiction.append(report['1']['f1-score'])\n",
    "    f1_non_fiction.append(report['0']['f1-score'])\n",
    "    scores.append(score_)\n",
    "    X_preds[i] = X_pred\n",
    "    Y_org[i] = Y_test"
   ]
  },
  {
   "cell_type": "code",
   "execution_count": 14,
   "metadata": {},
   "outputs": [
    {
     "data": {
      "text/plain": [
       "(94.01622718052737, 1.035277903056781)"
      ]
     },
     "execution_count": 14,
     "metadata": {},
     "output_type": "execute_result"
    }
   ],
   "source": [
    "np.mean(scores)*100, np.std(scores)*100"
   ]
  },
  {
   "cell_type": "code",
   "execution_count": 15,
   "metadata": {},
   "outputs": [
    {
     "data": {
      "text/plain": [
       "(0.9389943788878551, 0.011212039143020776)"
      ]
     },
     "execution_count": 15,
     "metadata": {},
     "output_type": "execute_result"
    }
   ],
   "source": [
    "np.mean(f1_fiction) , np.std(f1_fiction)"
   ]
  },
  {
   "cell_type": "code",
   "execution_count": 16,
   "metadata": {},
   "outputs": [
    {
     "data": {
      "text/plain": [
       "(0.941273688019133, 0.009552670433019989)"
      ]
     },
     "execution_count": 16,
     "metadata": {},
     "output_type": "execute_result"
    }
   ],
   "source": [
    "np.mean(f1_non_fiction) , np.std(f1_non_fiction)"
   ]
  },
  {
   "cell_type": "code",
   "execution_count": 29,
   "metadata": {},
   "outputs": [
    {
     "data": {
      "text/plain": [
       "[0.9531568228105907,\n",
       " 0.9423868312757201,\n",
       " 0.9423868312757201,\n",
       " 0.9531568228105907,\n",
       " 0.9467213114754099,\n",
       " 0.9201680672268907,\n",
       " 0.9467213114754099,\n",
       " 0.9291666666666667,\n",
       " 0.9313929313929314,\n",
       " 0.9246861924686193]"
      ]
     },
     "execution_count": 29,
     "metadata": {},
     "output_type": "execute_result"
    }
   ],
   "source": [
    "f1_fiction"
   ]
  },
  {
   "cell_type": "code",
   "execution_count": 31,
   "metadata": {},
   "outputs": [
    {
     "data": {
      "text/plain": [
       "[0.9535353535353536,\n",
       " 0.9440000000000001,\n",
       " 0.9440000000000001,\n",
       " 0.9535353535353536,\n",
       " 0.9477911646586347,\n",
       " 0.9254901960784314,\n",
       " 0.9477911646586347,\n",
       " 0.932806324110672,\n",
       " 0.9346534653465346,\n",
       " 0.9291338582677167]"
      ]
     },
     "execution_count": 31,
     "metadata": {},
     "output_type": "execute_result"
    }
   ],
   "source": [
    "f1_non_fiction"
   ]
  },
  {
   "cell_type": "code",
   "execution_count": null,
   "metadata": {},
   "outputs": [],
   "source": []
  }
 ],
 "metadata": {
  "kernelspec": {
   "display_name": "thesis_env",
   "language": "python",
   "name": "python3"
  },
  "language_info": {
   "codemirror_mode": {
    "name": "ipython",
    "version": 3
   },
   "file_extension": ".py",
   "mimetype": "text/x-python",
   "name": "python",
   "nbconvert_exporter": "python",
   "pygments_lexer": "ipython3",
   "version": "3.11.6"
  }
 },
 "nbformat": 4,
 "nbformat_minor": 2
}
