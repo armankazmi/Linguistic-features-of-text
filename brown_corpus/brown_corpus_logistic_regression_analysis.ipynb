{
 "cells": [
  {
   "cell_type": "code",
   "execution_count": 1,
   "metadata": {},
   "outputs": [
    {
     "name": "stderr",
     "output_type": "stream",
     "text": [
      "d:\\Projects\\ms_thesis\\thesis_env\\Lib\\site-packages\\tqdm\\auto.py:21: TqdmWarning: IProgress not found. Please update jupyter and ipywidgets. See https://ipywidgets.readthedocs.io/en/stable/user_install.html\n",
      "  from .autonotebook import tqdm as notebook_tqdm\n"
     ]
    }
   ],
   "source": [
    "import re\n",
    "import nltk\n",
    "import stanza\n",
    "import numpy as np\n",
    "import pandas as pd\n",
    "from tqdm import tqdm\n",
    "from nltk.corpus import brown"
   ]
  },
  {
   "cell_type": "markdown",
   "metadata": {},
   "source": [
    "## Logistic Regression"
   ]
  },
  {
   "cell_type": "code",
   "execution_count": 2,
   "metadata": {},
   "outputs": [],
   "source": [
    "from sklearn.model_selection import train_test_split\n",
    "from sklearn.linear_model import LogisticRegression, LogisticRegressionCV \n",
    "from sklearn.metrics import classification_report\n",
    "from sklearn.preprocessing import StandardScaler"
   ]
  },
  {
   "cell_type": "code",
   "execution_count": 3,
   "metadata": {},
   "outputs": [],
   "source": [
    "def logistic(X_log, y):\n",
    "    scores = []\n",
    "    f1_fict = []\n",
    "    f1_nonfict = []\n",
    "    model = None\n",
    "    score_ = 0\n",
    "    for i in range(10):\n",
    "        X_train, X_test, ytrain, ytest = train_test_split(X_log, y, test_size=0.3, random_state=i)\n",
    "        logReg = LogisticRegressionCV(cv=10, max_iter=10000, n_jobs=-1, solver='liblinear', penalty='l1')\n",
    "        logReg.fit(X_train, ytrain)\n",
    "        X_pred = logReg.predict(X_test)\n",
    "        s = logReg.score(X_test, ytest)\n",
    "        if s > score_ :\n",
    "            score_ = s\n",
    "            model = logReg\n",
    "            best_model_state = i\n",
    "        scores.append(logReg.score(X_test,ytest))\n",
    "        report = classification_report(ytest, X_pred, output_dict=True)\n",
    "        f1_fict.append(report['1']['f1-score'])\n",
    "        f1_nonfict.append(report['0']['f1-score'])\n",
    "        print('Finished iteration: ', i)\n",
    "    score = np.mean(scores), np.std(scores)\n",
    "    f1_fic = np.mean(f1_fict), np.std(f1_fict)\n",
    "    f1_nonfic = np.mean(f1_nonfict), np.std(f1_nonfict)  \n",
    "    return {'Accuracy and std' : f'{score[0]*100} +/- {score[1]*100}',\n",
    "            'F1 score fiction' : f1_fic,\n",
    "            'F1 score nonfiction': f1_nonfic,\n",
    "            'Model' : model,\n",
    "            'random_state_value' : best_model_state\n",
    "           }"
   ]
  },
  {
   "cell_type": "markdown",
   "metadata": {},
   "source": [
    "## RFECV"
   ]
  },
  {
   "cell_type": "code",
   "execution_count": 4,
   "metadata": {},
   "outputs": [],
   "source": [
    "from sklearn.feature_selection import RFECV\n",
    "def rfecv(X_rfe, y):\n",
    "    new_feat = []\n",
    "    flag = True\n",
    "    while flag == True:\n",
    "        log_model = LogisticRegression(max_iter=10000,penalty='l1',solver='liblinear')\n",
    "        rfecv = RFECV(estimator=log_model, step=1, cv=10, scoring='accuracy')\n",
    "        rfecv.fit(X_rfe, y)\n",
    "        feature_importance = list(zip(X_rfe.columns, rfecv.support_))\n",
    "        new_features = []\n",
    "        for key,value in enumerate(feature_importance):\n",
    "            if(value[1]) == True:\n",
    "                new_features.append(value[0])\n",
    "        if set(new_features) == set(new_feat):\n",
    "            flag = False\n",
    "        else:\n",
    "            new_feat = new_features\n",
    "            X_rfe = X_rfe[new_features]\n",
    "\n",
    "    return new_feat"
   ]
  },
  {
   "cell_type": "markdown",
   "metadata": {},
   "source": [
    "## Raw Features\n",
    "### Average Sentence Length & Standard deviation in Sentence Length"
   ]
  },
  {
   "cell_type": "code",
   "execution_count": 5,
   "metadata": {},
   "outputs": [
    {
     "data": {
      "text/html": [
       "<div>\n",
       "<style scoped>\n",
       "    .dataframe tbody tr th:only-of-type {\n",
       "        vertical-align: middle;\n",
       "    }\n",
       "\n",
       "    .dataframe tbody tr th {\n",
       "        vertical-align: top;\n",
       "    }\n",
       "\n",
       "    .dataframe thead th {\n",
       "        text-align: right;\n",
       "    }\n",
       "</style>\n",
       "<table border=\"1\" class=\"dataframe\">\n",
       "  <thead>\n",
       "    <tr style=\"text-align: right;\">\n",
       "      <th></th>\n",
       "      <th>count</th>\n",
       "      <th>mean</th>\n",
       "      <th>std</th>\n",
       "      <th>min</th>\n",
       "      <th>25%</th>\n",
       "      <th>50%</th>\n",
       "      <th>75%</th>\n",
       "      <th>max</th>\n",
       "    </tr>\n",
       "  </thead>\n",
       "  <tbody>\n",
       "    <tr>\n",
       "      <th>label</th>\n",
       "      <td>1510.0</td>\n",
       "      <td>0.505960</td>\n",
       "      <td>0.500130</td>\n",
       "      <td>0.000000</td>\n",
       "      <td>0.000000</td>\n",
       "      <td>1.000000</td>\n",
       "      <td>1.000000</td>\n",
       "      <td>1.000000</td>\n",
       "    </tr>\n",
       "    <tr>\n",
       "      <th>avg_sen_len</th>\n",
       "      <td>1510.0</td>\n",
       "      <td>18.764614</td>\n",
       "      <td>7.439869</td>\n",
       "      <td>4.400000</td>\n",
       "      <td>13.200000</td>\n",
       "      <td>17.800000</td>\n",
       "      <td>23.166667</td>\n",
       "      <td>66.000000</td>\n",
       "    </tr>\n",
       "    <tr>\n",
       "      <th>std_sen_len</th>\n",
       "      <td>1510.0</td>\n",
       "      <td>8.311077</td>\n",
       "      <td>4.545612</td>\n",
       "      <td>0.816497</td>\n",
       "      <td>5.079917</td>\n",
       "      <td>7.467262</td>\n",
       "      <td>10.593394</td>\n",
       "      <td>48.450387</td>\n",
       "    </tr>\n",
       "  </tbody>\n",
       "</table>\n",
       "</div>"
      ],
      "text/plain": [
       "              count       mean       std       min        25%        50%  \\\n",
       "label        1510.0   0.505960  0.500130  0.000000   0.000000   1.000000   \n",
       "avg_sen_len  1510.0  18.764614  7.439869  4.400000  13.200000  17.800000   \n",
       "std_sen_len  1510.0   8.311077  4.545612  0.816497   5.079917   7.467262   \n",
       "\n",
       "                   75%        max  \n",
       "label         1.000000   1.000000  \n",
       "avg_sen_len  23.166667  66.000000  \n",
       "std_sen_len  10.593394  48.450387  "
      ]
     },
     "execution_count": 5,
     "metadata": {},
     "output_type": "execute_result"
    }
   ],
   "source": [
    "df_sen_len = pd.read_csv('../data/brown_corpus_raw_features.csv', index_col=0)\n",
    "df_sen_len.describe().transpose()"
   ]
  },
  {
   "cell_type": "code",
   "execution_count": 7,
   "metadata": {},
   "outputs": [
    {
     "name": "stdout",
     "output_type": "stream",
     "text": [
      "Finished iteration:  0\n",
      "Finished iteration:  1\n",
      "Finished iteration:  2\n",
      "Finished iteration:  3\n",
      "Finished iteration:  4\n",
      "Finished iteration:  5\n",
      "Finished iteration:  6\n",
      "Finished iteration:  7\n",
      "Finished iteration:  8\n",
      "Finished iteration:  9\n"
     ]
    }
   ],
   "source": [
    "X = df_sen_len[['avg_sen_len', 'std_sen_len']]\n",
    "y = df_sen_len.label\n",
    "raw_feat_scores = logistic(X, y)"
   ]
  },
  {
   "cell_type": "code",
   "execution_count": 8,
   "metadata": {},
   "outputs": [
    {
     "data": {
      "text/plain": [
       "{'Accuracy and std': '73.35540838852097 +/- 1.6402523609942539',\n",
       " 'F1 score fiction': (0.7401361434909297, 0.01923458038949025),\n",
       " 'F1 score nonfiction': (0.7261890101437862, 0.016235505086246025),\n",
       " 'Model': LogisticRegressionCV(cv=10, max_iter=10000, n_jobs=-1, penalty='l1',\n",
       "                      solver='liblinear'),\n",
       " 'random_state_value': 7}"
      ]
     },
     "execution_count": 8,
     "metadata": {},
     "output_type": "execute_result"
    }
   ],
   "source": [
    "raw_feat_scores"
   ]
  },
  {
   "cell_type": "code",
   "execution_count": 10,
   "metadata": {},
   "outputs": [
    {
     "data": {
      "text/plain": [
       "['avg_sen_len', 'std_sen_len']"
      ]
     },
     "execution_count": 10,
     "metadata": {},
     "output_type": "execute_result"
    }
   ],
   "source": [
    "raw_features = list(X.columns)\n",
    "raw_features"
   ]
  },
  {
   "cell_type": "markdown",
   "metadata": {},
   "source": [
    "## Lexical Featurees"
   ]
  },
  {
   "cell_type": "markdown",
   "metadata": {},
   "source": [
    "### Lexical Diversity"
   ]
  },
  {
   "cell_type": "code",
   "execution_count": 11,
   "metadata": {},
   "outputs": [
    {
     "data": {
      "text/html": [
       "<div>\n",
       "<style scoped>\n",
       "    .dataframe tbody tr th:only-of-type {\n",
       "        vertical-align: middle;\n",
       "    }\n",
       "\n",
       "    .dataframe tbody tr th {\n",
       "        vertical-align: top;\n",
       "    }\n",
       "\n",
       "    .dataframe thead th {\n",
       "        text-align: right;\n",
       "    }\n",
       "</style>\n",
       "<table border=\"1\" class=\"dataframe\">\n",
       "  <thead>\n",
       "    <tr style=\"text-align: right;\">\n",
       "      <th></th>\n",
       "      <th>count</th>\n",
       "      <th>mean</th>\n",
       "      <th>std</th>\n",
       "      <th>min</th>\n",
       "      <th>25%</th>\n",
       "      <th>50%</th>\n",
       "      <th>75%</th>\n",
       "      <th>max</th>\n",
       "    </tr>\n",
       "  </thead>\n",
       "  <tbody>\n",
       "    <tr>\n",
       "      <th>TTR</th>\n",
       "      <td>1510.0</td>\n",
       "      <td>0.081126</td>\n",
       "      <td>0.038679</td>\n",
       "      <td>0.021887</td>\n",
       "      <td>0.053513</td>\n",
       "      <td>0.071980</td>\n",
       "      <td>0.098112</td>\n",
       "      <td>0.342857</td>\n",
       "    </tr>\n",
       "    <tr>\n",
       "      <th>Root TTR</th>\n",
       "      <td>1510.0</td>\n",
       "      <td>1.471880</td>\n",
       "      <td>0.314064</td>\n",
       "      <td>0.762073</td>\n",
       "      <td>1.240038</td>\n",
       "      <td>1.428930</td>\n",
       "      <td>1.658358</td>\n",
       "      <td>2.868549</td>\n",
       "    </tr>\n",
       "    <tr>\n",
       "      <th>Log TTR</th>\n",
       "      <td>1510.0</td>\n",
       "      <td>0.564328</td>\n",
       "      <td>0.041212</td>\n",
       "      <td>0.461512</td>\n",
       "      <td>0.533870</td>\n",
       "      <td>0.559833</td>\n",
       "      <td>0.588294</td>\n",
       "      <td>0.748042</td>\n",
       "    </tr>\n",
       "    <tr>\n",
       "      <th>Maas TTR</th>\n",
       "      <td>1510.0</td>\n",
       "      <td>0.168512</td>\n",
       "      <td>0.006587</td>\n",
       "      <td>0.136555</td>\n",
       "      <td>0.164453</td>\n",
       "      <td>0.169447</td>\n",
       "      <td>0.173491</td>\n",
       "      <td>0.183840</td>\n",
       "    </tr>\n",
       "    <tr>\n",
       "      <th>Msstr</th>\n",
       "      <td>1510.0</td>\n",
       "      <td>0.377196</td>\n",
       "      <td>0.018343</td>\n",
       "      <td>0.320000</td>\n",
       "      <td>0.365000</td>\n",
       "      <td>0.375556</td>\n",
       "      <td>0.388000</td>\n",
       "      <td>0.450000</td>\n",
       "    </tr>\n",
       "    <tr>\n",
       "      <th>Ma TTR</th>\n",
       "      <td>1510.0</td>\n",
       "      <td>0.377330</td>\n",
       "      <td>0.017070</td>\n",
       "      <td>0.323243</td>\n",
       "      <td>0.365804</td>\n",
       "      <td>0.376002</td>\n",
       "      <td>0.387632</td>\n",
       "      <td>0.448218</td>\n",
       "    </tr>\n",
       "    <tr>\n",
       "      <th>HDD</th>\n",
       "      <td>1510.0</td>\n",
       "      <td>0.421878</td>\n",
       "      <td>0.019631</td>\n",
       "      <td>0.365258</td>\n",
       "      <td>0.408117</td>\n",
       "      <td>0.419004</td>\n",
       "      <td>0.433348</td>\n",
       "      <td>0.522246</td>\n",
       "    </tr>\n",
       "    <tr>\n",
       "      <th>MTLD</th>\n",
       "      <td>1510.0</td>\n",
       "      <td>14.321908</td>\n",
       "      <td>0.888960</td>\n",
       "      <td>12.058408</td>\n",
       "      <td>13.732770</td>\n",
       "      <td>14.237718</td>\n",
       "      <td>14.780883</td>\n",
       "      <td>18.863830</td>\n",
       "    </tr>\n",
       "    <tr>\n",
       "      <th>MTLD MA</th>\n",
       "      <td>1510.0</td>\n",
       "      <td>14.277174</td>\n",
       "      <td>0.770391</td>\n",
       "      <td>12.121849</td>\n",
       "      <td>13.748429</td>\n",
       "      <td>14.196716</td>\n",
       "      <td>14.722970</td>\n",
       "      <td>17.778689</td>\n",
       "    </tr>\n",
       "    <tr>\n",
       "      <th>MTLD MA Bi</th>\n",
       "      <td>1510.0</td>\n",
       "      <td>14.206057</td>\n",
       "      <td>0.766846</td>\n",
       "      <td>12.131261</td>\n",
       "      <td>13.685370</td>\n",
       "      <td>14.125487</td>\n",
       "      <td>14.642075</td>\n",
       "      <td>18.282722</td>\n",
       "    </tr>\n",
       "    <tr>\n",
       "      <th>VocD</th>\n",
       "      <td>1510.0</td>\n",
       "      <td>6.499505</td>\n",
       "      <td>0.853736</td>\n",
       "      <td>4.412065</td>\n",
       "      <td>5.908248</td>\n",
       "      <td>6.345067</td>\n",
       "      <td>6.945571</td>\n",
       "      <td>11.964804</td>\n",
       "    </tr>\n",
       "    <tr>\n",
       "      <th>YulesK</th>\n",
       "      <td>1510.0</td>\n",
       "      <td>602.132971</td>\n",
       "      <td>50.473143</td>\n",
       "      <td>423.553719</td>\n",
       "      <td>572.449517</td>\n",
       "      <td>606.364519</td>\n",
       "      <td>635.081626</td>\n",
       "      <td>785.217668</td>\n",
       "    </tr>\n",
       "    <tr>\n",
       "      <th>label</th>\n",
       "      <td>1510.0</td>\n",
       "      <td>0.505960</td>\n",
       "      <td>0.500130</td>\n",
       "      <td>0.000000</td>\n",
       "      <td>0.000000</td>\n",
       "      <td>1.000000</td>\n",
       "      <td>1.000000</td>\n",
       "      <td>1.000000</td>\n",
       "    </tr>\n",
       "  </tbody>\n",
       "</table>\n",
       "</div>"
      ],
      "text/plain": [
       "             count        mean        std         min         25%         50%  \\\n",
       "TTR         1510.0    0.081126   0.038679    0.021887    0.053513    0.071980   \n",
       "Root TTR    1510.0    1.471880   0.314064    0.762073    1.240038    1.428930   \n",
       "Log TTR     1510.0    0.564328   0.041212    0.461512    0.533870    0.559833   \n",
       "Maas TTR    1510.0    0.168512   0.006587    0.136555    0.164453    0.169447   \n",
       "Msstr       1510.0    0.377196   0.018343    0.320000    0.365000    0.375556   \n",
       "Ma TTR      1510.0    0.377330   0.017070    0.323243    0.365804    0.376002   \n",
       "HDD         1510.0    0.421878   0.019631    0.365258    0.408117    0.419004   \n",
       "MTLD        1510.0   14.321908   0.888960   12.058408   13.732770   14.237718   \n",
       "MTLD MA     1510.0   14.277174   0.770391   12.121849   13.748429   14.196716   \n",
       "MTLD MA Bi  1510.0   14.206057   0.766846   12.131261   13.685370   14.125487   \n",
       "VocD        1510.0    6.499505   0.853736    4.412065    5.908248    6.345067   \n",
       "YulesK      1510.0  602.132971  50.473143  423.553719  572.449517  606.364519   \n",
       "label       1510.0    0.505960   0.500130    0.000000    0.000000    1.000000   \n",
       "\n",
       "                   75%         max  \n",
       "TTR           0.098112    0.342857  \n",
       "Root TTR      1.658358    2.868549  \n",
       "Log TTR       0.588294    0.748042  \n",
       "Maas TTR      0.173491    0.183840  \n",
       "Msstr         0.388000    0.450000  \n",
       "Ma TTR        0.387632    0.448218  \n",
       "HDD           0.433348    0.522246  \n",
       "MTLD         14.780883   18.863830  \n",
       "MTLD MA      14.722970   17.778689  \n",
       "MTLD MA Bi   14.642075   18.282722  \n",
       "VocD          6.945571   11.964804  \n",
       "YulesK      635.081626  785.217668  \n",
       "label         1.000000    1.000000  "
      ]
     },
     "execution_count": 11,
     "metadata": {},
     "output_type": "execute_result"
    }
   ],
   "source": [
    "df_lex_div = pd.read_csv('../data/brown_corpus_char_diversity_features.csv', index_col=0)\n",
    "df_lex_div.describe().transpose()"
   ]
  },
  {
   "cell_type": "code",
   "execution_count": 12,
   "metadata": {},
   "outputs": [],
   "source": [
    "X = df_lex_div.drop(columns=['label', 'id'])\n",
    "y = df_lex_div.label"
   ]
  },
  {
   "cell_type": "code",
   "execution_count": 13,
   "metadata": {},
   "outputs": [],
   "source": [
    "## Scaling the features\n",
    "scale = StandardScaler()\n",
    "X_scale = scale.fit_transform(X)\n",
    "X_scale_df = pd.DataFrame(X_scale, columns=X.columns)"
   ]
  },
  {
   "cell_type": "code",
   "execution_count": 14,
   "metadata": {},
   "outputs": [
    {
     "data": {
      "text/plain": [
       "(array([8.11262665e-02, 1.47188009e+00, 5.64327689e-01, 1.68511737e-01,\n",
       "        3.77196411e-01, 3.77330440e-01, 4.21878311e-01, 1.43219078e+01,\n",
       "        1.42771735e+01, 1.42060573e+01, 6.49950474e+00, 6.02132971e+02]),\n",
       " array([1.49511062e-03, 9.85711590e-02, 1.69732589e-03, 4.33559580e-05,\n",
       "        3.36231064e-04, 2.91202762e-04, 3.85101921e-04, 7.89726070e-01,\n",
       "        5.93108547e-01, 5.87663019e-01, 7.28382593e-01, 2.54585110e+03]))"
      ]
     },
     "execution_count": 14,
     "metadata": {},
     "output_type": "execute_result"
    }
   ],
   "source": [
    "scale.mean_, scale.var_"
   ]
  },
  {
   "cell_type": "code",
   "execution_count": 15,
   "metadata": {},
   "outputs": [
    {
     "data": {
      "text/plain": [
       "[('TTR', 'Root TTR'),\n",
       " ('TTR', 'Log TTR'),\n",
       " ('Root TTR', 'Log TTR'),\n",
       " ('HDD', 'VocD'),\n",
       " ('MTLD MA', 'MTLD MA Bi')]"
      ]
     },
     "execution_count": 15,
     "metadata": {},
     "output_type": "execute_result"
    }
   ],
   "source": [
    "## Removing Highly Correlated features\n",
    "corr_matrix = X_scale_df.corr()\n",
    "high_corr_feats = np.where(corr_matrix>0.95)\n",
    "high_corr_feats = [(corr_matrix.columns[i], corr_matrix.columns[j]) for i,j in zip(*high_corr_feats) if i!=j and i<j]\n",
    "high_corr_feats"
   ]
  },
  {
   "cell_type": "code",
   "execution_count": 16,
   "metadata": {},
   "outputs": [
    {
     "data": {
      "text/html": [
       "<div>\n",
       "<style scoped>\n",
       "    .dataframe tbody tr th:only-of-type {\n",
       "        vertical-align: middle;\n",
       "    }\n",
       "\n",
       "    .dataframe tbody tr th {\n",
       "        vertical-align: top;\n",
       "    }\n",
       "\n",
       "    .dataframe thead th {\n",
       "        text-align: right;\n",
       "    }\n",
       "</style>\n",
       "<table border=\"1\" class=\"dataframe\">\n",
       "  <thead>\n",
       "    <tr style=\"text-align: right;\">\n",
       "      <th></th>\n",
       "      <th>count</th>\n",
       "      <th>mean</th>\n",
       "      <th>std</th>\n",
       "      <th>min</th>\n",
       "      <th>25%</th>\n",
       "      <th>50%</th>\n",
       "      <th>75%</th>\n",
       "      <th>max</th>\n",
       "    </tr>\n",
       "  </thead>\n",
       "  <tbody>\n",
       "    <tr>\n",
       "      <th>TTR</th>\n",
       "      <td>1510.0</td>\n",
       "      <td>-1.129339e-16</td>\n",
       "      <td>1.000331</td>\n",
       "      <td>-1.532056</td>\n",
       "      <td>-0.714124</td>\n",
       "      <td>-0.236538</td>\n",
       "      <td>0.439283</td>\n",
       "      <td>6.768903</td>\n",
       "    </tr>\n",
       "    <tr>\n",
       "      <th>Maas TTR</th>\n",
       "      <td>1510.0</td>\n",
       "      <td>5.740809e-16</td>\n",
       "      <td>1.000331</td>\n",
       "      <td>-4.853276</td>\n",
       "      <td>-0.616456</td>\n",
       "      <td>0.142026</td>\n",
       "      <td>0.756139</td>\n",
       "      <td>2.327928</td>\n",
       "    </tr>\n",
       "    <tr>\n",
       "      <th>Msstr</th>\n",
       "      <td>1510.0</td>\n",
       "      <td>3.613886e-15</td>\n",
       "      <td>1.000331</td>\n",
       "      <td>-3.119248</td>\n",
       "      <td>-0.665140</td>\n",
       "      <td>-0.089485</td>\n",
       "      <td>0.589182</td>\n",
       "      <td>3.970396</td>\n",
       "    </tr>\n",
       "    <tr>\n",
       "      <th>Ma TTR</th>\n",
       "      <td>1510.0</td>\n",
       "      <td>3.369196e-15</td>\n",
       "      <td>1.000331</td>\n",
       "      <td>-3.169544</td>\n",
       "      <td>-0.675482</td>\n",
       "      <td>-0.077828</td>\n",
       "      <td>0.603693</td>\n",
       "      <td>4.154066</td>\n",
       "    </tr>\n",
       "    <tr>\n",
       "      <th>MTLD</th>\n",
       "      <td>1510.0</td>\n",
       "      <td>-2.009283e-15</td>\n",
       "      <td>1.000331</td>\n",
       "      <td>-2.547078</td>\n",
       "      <td>-0.662946</td>\n",
       "      <td>-0.094737</td>\n",
       "      <td>0.516477</td>\n",
       "      <td>5.110948</td>\n",
       "    </tr>\n",
       "    <tr>\n",
       "      <th>MTLD MA</th>\n",
       "      <td>1510.0</td>\n",
       "      <td>-6.587813e-16</td>\n",
       "      <td>1.000331</td>\n",
       "      <td>-2.798631</td>\n",
       "      <td>-0.686560</td>\n",
       "      <td>-0.104472</td>\n",
       "      <td>0.578855</td>\n",
       "      <td>4.546623</td>\n",
       "    </tr>\n",
       "    <tr>\n",
       "      <th>VocD</th>\n",
       "      <td>1510.0</td>\n",
       "      <td>1.505786e-15</td>\n",
       "      <td>1.000331</td>\n",
       "      <td>-2.445875</td>\n",
       "      <td>-0.692781</td>\n",
       "      <td>-0.180957</td>\n",
       "      <td>0.522661</td>\n",
       "      <td>6.403747</td>\n",
       "    </tr>\n",
       "    <tr>\n",
       "      <th>YulesK</th>\n",
       "      <td>1510.0</td>\n",
       "      <td>-1.919877e-15</td>\n",
       "      <td>1.000331</td>\n",
       "      <td>-3.539277</td>\n",
       "      <td>-0.588299</td>\n",
       "      <td>0.083865</td>\n",
       "      <td>0.653012</td>\n",
       "      <td>3.628570</td>\n",
       "    </tr>\n",
       "  </tbody>\n",
       "</table>\n",
       "</div>"
      ],
      "text/plain": [
       "           count          mean       std       min       25%       50%  \\\n",
       "TTR       1510.0 -1.129339e-16  1.000331 -1.532056 -0.714124 -0.236538   \n",
       "Maas TTR  1510.0  5.740809e-16  1.000331 -4.853276 -0.616456  0.142026   \n",
       "Msstr     1510.0  3.613886e-15  1.000331 -3.119248 -0.665140 -0.089485   \n",
       "Ma TTR    1510.0  3.369196e-15  1.000331 -3.169544 -0.675482 -0.077828   \n",
       "MTLD      1510.0 -2.009283e-15  1.000331 -2.547078 -0.662946 -0.094737   \n",
       "MTLD MA   1510.0 -6.587813e-16  1.000331 -2.798631 -0.686560 -0.104472   \n",
       "VocD      1510.0  1.505786e-15  1.000331 -2.445875 -0.692781 -0.180957   \n",
       "YulesK    1510.0 -1.919877e-15  1.000331 -3.539277 -0.588299  0.083865   \n",
       "\n",
       "               75%       max  \n",
       "TTR       0.439283  6.768903  \n",
       "Maas TTR  0.756139  2.327928  \n",
       "Msstr     0.589182  3.970396  \n",
       "Ma TTR    0.603693  4.154066  \n",
       "MTLD      0.516477  5.110948  \n",
       "MTLD MA   0.578855  4.546623  \n",
       "VocD      0.522661  6.403747  \n",
       "YulesK    0.653012  3.628570  "
      ]
     },
     "execution_count": 16,
     "metadata": {},
     "output_type": "execute_result"
    }
   ],
   "source": [
    "to_drop = ['Root TTR', 'Log TTR', 'HDD', 'MTLD MA Bi']\n",
    "X_new = X_scale_df.drop(columns=to_drop)\n",
    "X_new.describe().transpose()"
   ]
  },
  {
   "cell_type": "code",
   "execution_count": 17,
   "metadata": {},
   "outputs": [
    {
     "data": {
      "text/plain": [
       "['TTR', 'Maas TTR', 'MTLD', 'VocD']"
      ]
     },
     "execution_count": 17,
     "metadata": {},
     "output_type": "execute_result"
    }
   ],
   "source": [
    "# Running RFECV to obtain the optimal features\n",
    "char_div_features = rfecv(X_new, y)\n",
    "char_div_features"
   ]
  },
  {
   "cell_type": "code",
   "execution_count": 18,
   "metadata": {},
   "outputs": [
    {
     "name": "stdout",
     "output_type": "stream",
     "text": [
      "Finished iteration:  0\n",
      "Finished iteration:  1\n",
      "Finished iteration:  2\n",
      "Finished iteration:  3\n",
      "Finished iteration:  4\n",
      "Finished iteration:  5\n",
      "Finished iteration:  6\n",
      "Finished iteration:  7\n",
      "Finished iteration:  8\n",
      "Finished iteration:  9\n",
      "\n",
      "Score using optimal features: \n",
      "\n"
     ]
    },
    {
     "data": {
      "text/plain": [
       "{'Accuracy and std': '81.54525386313466 +/- 1.6377251206173442',\n",
       " 'F1 score fiction': (0.8175727448562047, 0.016943355071106572),\n",
       " 'F1 score nonfiction': (0.8130775098739088, 0.016726316503954272),\n",
       " 'Model': LogisticRegressionCV(cv=10, max_iter=10000, n_jobs=-1, penalty='l1',\n",
       "                      solver='liblinear'),\n",
       " 'random_state_value': 2}"
      ]
     },
     "execution_count": 18,
     "metadata": {},
     "output_type": "execute_result"
    }
   ],
   "source": [
    "X_final = X_scale_df[char_div_features]\n",
    "lexical_diversity_scores = logistic(X_final, y)\n",
    "print('')\n",
    "print('Score using optimal features: \\n')\n",
    "lexical_diversity_scores"
   ]
  },
  {
   "cell_type": "code",
   "execution_count": null,
   "metadata": {},
   "outputs": [],
   "source": []
  },
  {
   "cell_type": "markdown",
   "metadata": {},
   "source": [
    "### Lexical Density"
   ]
  },
  {
   "cell_type": "code",
   "execution_count": 19,
   "metadata": {},
   "outputs": [
    {
     "data": {
      "text/html": [
       "<div>\n",
       "<style scoped>\n",
       "    .dataframe tbody tr th:only-of-type {\n",
       "        vertical-align: middle;\n",
       "    }\n",
       "\n",
       "    .dataframe tbody tr th {\n",
       "        vertical-align: top;\n",
       "    }\n",
       "\n",
       "    .dataframe thead th {\n",
       "        text-align: right;\n",
       "    }\n",
       "</style>\n",
       "<table border=\"1\" class=\"dataframe\">\n",
       "  <thead>\n",
       "    <tr style=\"text-align: right;\">\n",
       "      <th></th>\n",
       "      <th>count</th>\n",
       "      <th>mean</th>\n",
       "      <th>std</th>\n",
       "      <th>min</th>\n",
       "      <th>25%</th>\n",
       "      <th>50%</th>\n",
       "      <th>75%</th>\n",
       "      <th>max</th>\n",
       "    </tr>\n",
       "  </thead>\n",
       "  <tbody>\n",
       "    <tr>\n",
       "      <th>label</th>\n",
       "      <td>1510.0</td>\n",
       "      <td>0.505960</td>\n",
       "      <td>0.500130</td>\n",
       "      <td>0.0</td>\n",
       "      <td>0.000000</td>\n",
       "      <td>1.000000</td>\n",
       "      <td>1.0</td>\n",
       "      <td>1.000000</td>\n",
       "    </tr>\n",
       "    <tr>\n",
       "      <th>content/function</th>\n",
       "      <td>1510.0</td>\n",
       "      <td>0.442714</td>\n",
       "      <td>0.083501</td>\n",
       "      <td>0.0</td>\n",
       "      <td>0.389831</td>\n",
       "      <td>0.444444</td>\n",
       "      <td>0.5</td>\n",
       "      <td>0.710145</td>\n",
       "    </tr>\n",
       "  </tbody>\n",
       "</table>\n",
       "</div>"
      ],
      "text/plain": [
       "                   count      mean       std  min       25%       50%  75%  \\\n",
       "label             1510.0  0.505960  0.500130  0.0  0.000000  1.000000  1.0   \n",
       "content/function  1510.0  0.442714  0.083501  0.0  0.389831  0.444444  0.5   \n",
       "\n",
       "                       max  \n",
       "label             1.000000  \n",
       "content/function  0.710145  "
      ]
     },
     "execution_count": 19,
     "metadata": {},
     "output_type": "execute_result"
    }
   ],
   "source": [
    "df_con_func = pd.read_csv('../data/brown_corpus_lexical_density_features.csv', index_col=0)\n",
    "df_con_func.describe().transpose()"
   ]
  },
  {
   "cell_type": "code",
   "execution_count": 20,
   "metadata": {},
   "outputs": [],
   "source": [
    "X = np.asfarray(df_con_func['content/function']).reshape(-1,1)\n",
    "y = df_con_func.label"
   ]
  },
  {
   "cell_type": "code",
   "execution_count": 21,
   "metadata": {},
   "outputs": [
    {
     "name": "stdout",
     "output_type": "stream",
     "text": [
      "Finished iteration:  0\n",
      "Finished iteration:  1\n",
      "Finished iteration:  2\n",
      "Finished iteration:  3\n",
      "Finished iteration:  4\n",
      "Finished iteration:  5\n",
      "Finished iteration:  6\n",
      "Finished iteration:  7\n",
      "Finished iteration:  8\n",
      "Finished iteration:  9\n"
     ]
    },
    {
     "data": {
      "text/plain": [
       "{'Accuracy and std': '63.88520971302428 +/- 1.7720646569880312',\n",
       " 'F1 score fiction': (0.6429616811471147, 0.016953155957402214),\n",
       " 'F1 score nonfiction': (0.6345887261243498, 0.01902332080609808),\n",
       " 'Model': LogisticRegressionCV(cv=10, max_iter=10000, n_jobs=-1, penalty='l1',\n",
       "                      solver='liblinear'),\n",
       " 'random_state_value': 5}"
      ]
     },
     "execution_count": 21,
     "metadata": {},
     "output_type": "execute_result"
    }
   ],
   "source": [
    "lex_den_scores = logistic(X, y)\n",
    "lex_den_scores"
   ]
  },
  {
   "cell_type": "code",
   "execution_count": 23,
   "metadata": {},
   "outputs": [
    {
     "data": {
      "text/plain": [
       "['content/function', 'TTR', 'Maas TTR', 'MTLD', 'VocD']"
      ]
     },
     "execution_count": 23,
     "metadata": {},
     "output_type": "execute_result"
    }
   ],
   "source": [
    "lex_div_features = ['content/function'] + char_div_features\n",
    "lex_div_features"
   ]
  },
  {
   "cell_type": "markdown",
   "metadata": {},
   "source": [
    "## POS Features\n",
    "### POS Ratios"
   ]
  },
  {
   "cell_type": "code",
   "execution_count": 24,
   "metadata": {},
   "outputs": [
    {
     "data": {
      "text/html": [
       "<div>\n",
       "<style scoped>\n",
       "    .dataframe tbody tr th:only-of-type {\n",
       "        vertical-align: middle;\n",
       "    }\n",
       "\n",
       "    .dataframe tbody tr th {\n",
       "        vertical-align: top;\n",
       "    }\n",
       "\n",
       "    .dataframe thead th {\n",
       "        text-align: right;\n",
       "    }\n",
       "</style>\n",
       "<table border=\"1\" class=\"dataframe\">\n",
       "  <thead>\n",
       "    <tr style=\"text-align: right;\">\n",
       "      <th></th>\n",
       "      <th>count</th>\n",
       "      <th>mean</th>\n",
       "      <th>std</th>\n",
       "      <th>min</th>\n",
       "      <th>25%</th>\n",
       "      <th>50%</th>\n",
       "      <th>75%</th>\n",
       "      <th>max</th>\n",
       "    </tr>\n",
       "  </thead>\n",
       "  <tbody>\n",
       "    <tr>\n",
       "      <th>adverb/adjective</th>\n",
       "      <td>1510.0</td>\n",
       "      <td>0.863342</td>\n",
       "      <td>1.001162</td>\n",
       "      <td>0.0</td>\n",
       "      <td>0.301087</td>\n",
       "      <td>0.559028</td>\n",
       "      <td>1.000000</td>\n",
       "      <td>10.0</td>\n",
       "    </tr>\n",
       "    <tr>\n",
       "      <th>adverb/noun</th>\n",
       "      <td>1510.0</td>\n",
       "      <td>0.321936</td>\n",
       "      <td>0.368129</td>\n",
       "      <td>0.0</td>\n",
       "      <td>0.125000</td>\n",
       "      <td>0.227273</td>\n",
       "      <td>0.400000</td>\n",
       "      <td>5.0</td>\n",
       "    </tr>\n",
       "    <tr>\n",
       "      <th>adverb/pronoun</th>\n",
       "      <td>1510.0</td>\n",
       "      <td>0.818930</td>\n",
       "      <td>1.093277</td>\n",
       "      <td>0.0</td>\n",
       "      <td>0.285714</td>\n",
       "      <td>0.500000</td>\n",
       "      <td>1.000000</td>\n",
       "      <td>14.0</td>\n",
       "    </tr>\n",
       "    <tr>\n",
       "      <th>adjective/verb</th>\n",
       "      <td>1510.0</td>\n",
       "      <td>0.748114</td>\n",
       "      <td>0.602458</td>\n",
       "      <td>0.0</td>\n",
       "      <td>0.333333</td>\n",
       "      <td>0.609903</td>\n",
       "      <td>1.000000</td>\n",
       "      <td>7.0</td>\n",
       "    </tr>\n",
       "    <tr>\n",
       "      <th>adjective/pronoun</th>\n",
       "      <td>1510.0</td>\n",
       "      <td>1.598396</td>\n",
       "      <td>2.308413</td>\n",
       "      <td>0.0</td>\n",
       "      <td>0.333333</td>\n",
       "      <td>0.792857</td>\n",
       "      <td>1.870536</td>\n",
       "      <td>19.0</td>\n",
       "    </tr>\n",
       "    <tr>\n",
       "      <th>noun/verb</th>\n",
       "      <td>1510.0</td>\n",
       "      <td>1.898194</td>\n",
       "      <td>1.249352</td>\n",
       "      <td>0.0</td>\n",
       "      <td>1.100000</td>\n",
       "      <td>1.625000</td>\n",
       "      <td>2.416667</td>\n",
       "      <td>18.0</td>\n",
       "    </tr>\n",
       "    <tr>\n",
       "      <th>noun/pronoun</th>\n",
       "      <td>1510.0</td>\n",
       "      <td>4.456287</td>\n",
       "      <td>6.792268</td>\n",
       "      <td>0.0</td>\n",
       "      <td>1.000000</td>\n",
       "      <td>2.027778</td>\n",
       "      <td>4.500000</td>\n",
       "      <td>55.0</td>\n",
       "    </tr>\n",
       "    <tr>\n",
       "      <th>verb/pronoun</th>\n",
       "      <td>1510.0</td>\n",
       "      <td>2.049202</td>\n",
       "      <td>2.274705</td>\n",
       "      <td>0.0</td>\n",
       "      <td>0.909091</td>\n",
       "      <td>1.333333</td>\n",
       "      <td>2.250000</td>\n",
       "      <td>23.0</td>\n",
       "    </tr>\n",
       "    <tr>\n",
       "      <th>label</th>\n",
       "      <td>1510.0</td>\n",
       "      <td>0.505960</td>\n",
       "      <td>0.500130</td>\n",
       "      <td>0.0</td>\n",
       "      <td>0.000000</td>\n",
       "      <td>1.000000</td>\n",
       "      <td>1.000000</td>\n",
       "      <td>1.0</td>\n",
       "    </tr>\n",
       "  </tbody>\n",
       "</table>\n",
       "</div>"
      ],
      "text/plain": [
       "                    count      mean       std  min       25%       50%  \\\n",
       "adverb/adjective   1510.0  0.863342  1.001162  0.0  0.301087  0.559028   \n",
       "adverb/noun        1510.0  0.321936  0.368129  0.0  0.125000  0.227273   \n",
       "adverb/pronoun     1510.0  0.818930  1.093277  0.0  0.285714  0.500000   \n",
       "adjective/verb     1510.0  0.748114  0.602458  0.0  0.333333  0.609903   \n",
       "adjective/pronoun  1510.0  1.598396  2.308413  0.0  0.333333  0.792857   \n",
       "noun/verb          1510.0  1.898194  1.249352  0.0  1.100000  1.625000   \n",
       "noun/pronoun       1510.0  4.456287  6.792268  0.0  1.000000  2.027778   \n",
       "verb/pronoun       1510.0  2.049202  2.274705  0.0  0.909091  1.333333   \n",
       "label              1510.0  0.505960  0.500130  0.0  0.000000  1.000000   \n",
       "\n",
       "                        75%   max  \n",
       "adverb/adjective   1.000000  10.0  \n",
       "adverb/noun        0.400000   5.0  \n",
       "adverb/pronoun     1.000000  14.0  \n",
       "adjective/verb     1.000000   7.0  \n",
       "adjective/pronoun  1.870536  19.0  \n",
       "noun/verb          2.416667  18.0  \n",
       "noun/pronoun       4.500000  55.0  \n",
       "verb/pronoun       2.250000  23.0  \n",
       "label              1.000000   1.0  "
      ]
     },
     "execution_count": 24,
     "metadata": {},
     "output_type": "execute_result"
    }
   ],
   "source": [
    "df_pos_ratios = pd.read_csv('../data/brown_corpus_pos_ratios_features.csv', index_col=0)\n",
    "df_pos_ratios.describe().transpose()"
   ]
  },
  {
   "cell_type": "code",
   "execution_count": 25,
   "metadata": {},
   "outputs": [],
   "source": [
    "X = df_pos_ratios.drop(columns=['id', 'label'])\n",
    "y = df_pos_ratios.label"
   ]
  },
  {
   "cell_type": "code",
   "execution_count": 26,
   "metadata": {},
   "outputs": [
    {
     "data": {
      "text/plain": [
       "['adverb/noun', 'adverb/pronoun', 'adjective/pronoun', 'noun/verb']"
      ]
     },
     "execution_count": 26,
     "metadata": {},
     "output_type": "execute_result"
    }
   ],
   "source": [
    "# Running RFECV to obtain the optimal features\n",
    "pos_features = rfecv(X, y)\n",
    "pos_features"
   ]
  },
  {
   "cell_type": "code",
   "execution_count": 27,
   "metadata": {},
   "outputs": [
    {
     "name": "stdout",
     "output_type": "stream",
     "text": [
      "Finished iteration:  0\n",
      "Finished iteration:  1\n",
      "Finished iteration:  2\n",
      "Finished iteration:  3\n",
      "Finished iteration:  4\n",
      "Finished iteration:  5\n",
      "Finished iteration:  6\n",
      "Finished iteration:  7\n",
      "Finished iteration:  8\n",
      "Finished iteration:  9\n",
      "\n",
      "Score using optimal features: \n",
      "\n"
     ]
    },
    {
     "data": {
      "text/plain": [
       "{'Accuracy and std': '81.36865342163354 +/- 1.1436497878135659',\n",
       " 'F1 score fiction': (0.8233256952633463, 0.01378709596942256),\n",
       " 'F1 score nonfiction': (0.8026531606829744, 0.01015516142662351),\n",
       " 'Model': LogisticRegressionCV(cv=10, max_iter=10000, n_jobs=-1, penalty='l1',\n",
       "                      solver='liblinear'),\n",
       " 'random_state_value': 5}"
      ]
     },
     "execution_count": 27,
     "metadata": {},
     "output_type": "execute_result"
    }
   ],
   "source": [
    "X_final = X[pos_features]\n",
    "pos_ratios_measures = logistic(X_final, y)\n",
    "print('')\n",
    "print('Score using optimal features: \\n')\n",
    "pos_ratios_measures"
   ]
  },
  {
   "cell_type": "code",
   "execution_count": null,
   "metadata": {},
   "outputs": [],
   "source": []
  },
  {
   "cell_type": "markdown",
   "metadata": {},
   "source": [
    "## Syntactic Features"
   ]
  },
  {
   "cell_type": "markdown",
   "metadata": {},
   "source": [
    "### Syntactic Complexity"
   ]
  },
  {
   "cell_type": "code",
   "execution_count": 28,
   "metadata": {},
   "outputs": [
    {
     "data": {
      "text/html": [
       "<div>\n",
       "<style scoped>\n",
       "    .dataframe tbody tr th:only-of-type {\n",
       "        vertical-align: middle;\n",
       "    }\n",
       "\n",
       "    .dataframe tbody tr th {\n",
       "        vertical-align: top;\n",
       "    }\n",
       "\n",
       "    .dataframe thead th {\n",
       "        text-align: right;\n",
       "    }\n",
       "</style>\n",
       "<table border=\"1\" class=\"dataframe\">\n",
       "  <thead>\n",
       "    <tr style=\"text-align: right;\">\n",
       "      <th></th>\n",
       "      <th>count</th>\n",
       "      <th>mean</th>\n",
       "      <th>std</th>\n",
       "      <th>min</th>\n",
       "      <th>25%</th>\n",
       "      <th>50%</th>\n",
       "      <th>75%</th>\n",
       "      <th>max</th>\n",
       "    </tr>\n",
       "  </thead>\n",
       "  <tbody>\n",
       "    <tr>\n",
       "      <th>label</th>\n",
       "      <td>1510.0</td>\n",
       "      <td>0.505960</td>\n",
       "      <td>0.500130</td>\n",
       "      <td>0.000000</td>\n",
       "      <td>0.000000</td>\n",
       "      <td>1.000000</td>\n",
       "      <td>1.000000</td>\n",
       "      <td>1.000000</td>\n",
       "    </tr>\n",
       "    <tr>\n",
       "      <th>mean para depth</th>\n",
       "      <td>1510.0</td>\n",
       "      <td>0.709765</td>\n",
       "      <td>0.196280</td>\n",
       "      <td>0.100000</td>\n",
       "      <td>0.571999</td>\n",
       "      <td>0.697967</td>\n",
       "      <td>0.840923</td>\n",
       "      <td>1.458622</td>\n",
       "    </tr>\n",
       "    <tr>\n",
       "      <th>Std para depth</th>\n",
       "      <td>1510.0</td>\n",
       "      <td>0.278533</td>\n",
       "      <td>0.122300</td>\n",
       "      <td>0.024051</td>\n",
       "      <td>0.191746</td>\n",
       "      <td>0.260466</td>\n",
       "      <td>0.342480</td>\n",
       "      <td>0.937199</td>\n",
       "    </tr>\n",
       "    <tr>\n",
       "      <th>Mean ISC score</th>\n",
       "      <td>1510.0</td>\n",
       "      <td>6.608653</td>\n",
       "      <td>2.888218</td>\n",
       "      <td>0.600000</td>\n",
       "      <td>4.500000</td>\n",
       "      <td>6.200000</td>\n",
       "      <td>8.200000</td>\n",
       "      <td>21.600000</td>\n",
       "    </tr>\n",
       "    <tr>\n",
       "      <th>Std ISC score</th>\n",
       "      <td>1510.0</td>\n",
       "      <td>3.371765</td>\n",
       "      <td>1.776475</td>\n",
       "      <td>0.372678</td>\n",
       "      <td>2.119666</td>\n",
       "      <td>3.075078</td>\n",
       "      <td>4.270311</td>\n",
       "      <td>20.175232</td>\n",
       "    </tr>\n",
       "    <tr>\n",
       "      <th>Mean ADD</th>\n",
       "      <td>1510.0</td>\n",
       "      <td>2.256671</td>\n",
       "      <td>0.346546</td>\n",
       "      <td>0.900000</td>\n",
       "      <td>2.034832</td>\n",
       "      <td>2.260806</td>\n",
       "      <td>2.487966</td>\n",
       "      <td>3.505292</td>\n",
       "    </tr>\n",
       "    <tr>\n",
       "      <th>Std Add</th>\n",
       "      <td>1510.0</td>\n",
       "      <td>0.491750</td>\n",
       "      <td>0.219868</td>\n",
       "      <td>0.036361</td>\n",
       "      <td>0.339148</td>\n",
       "      <td>0.452978</td>\n",
       "      <td>0.597723</td>\n",
       "      <td>1.848322</td>\n",
       "    </tr>\n",
       "  </tbody>\n",
       "</table>\n",
       "</div>"
      ],
      "text/plain": [
       "                  count      mean       std       min       25%       50%  \\\n",
       "label            1510.0  0.505960  0.500130  0.000000  0.000000  1.000000   \n",
       "mean para depth  1510.0  0.709765  0.196280  0.100000  0.571999  0.697967   \n",
       "Std para depth   1510.0  0.278533  0.122300  0.024051  0.191746  0.260466   \n",
       "Mean ISC score   1510.0  6.608653  2.888218  0.600000  4.500000  6.200000   \n",
       "Std ISC score    1510.0  3.371765  1.776475  0.372678  2.119666  3.075078   \n",
       "Mean ADD         1510.0  2.256671  0.346546  0.900000  2.034832  2.260806   \n",
       "Std Add          1510.0  0.491750  0.219868  0.036361  0.339148  0.452978   \n",
       "\n",
       "                      75%        max  \n",
       "label            1.000000   1.000000  \n",
       "mean para depth  0.840923   1.458622  \n",
       "Std para depth   0.342480   0.937199  \n",
       "Mean ISC score   8.200000  21.600000  \n",
       "Std ISC score    4.270311  20.175232  \n",
       "Mean ADD         2.487966   3.505292  \n",
       "Std Add          0.597723   1.848322  "
      ]
     },
     "execution_count": 28,
     "metadata": {},
     "output_type": "execute_result"
    }
   ],
   "source": [
    "df_sen_comp = pd.read_csv('../data/brown_corpus_sen_comp_features_no_punct.csv', index_col=0)\n",
    "df_sen_comp.describe().transpose()"
   ]
  },
  {
   "cell_type": "code",
   "execution_count": 32,
   "metadata": {},
   "outputs": [],
   "source": [
    "X = df_sen_comp.drop(columns=['label', 'id'])\n",
    "y = df_sen_comp.label"
   ]
  },
  {
   "cell_type": "code",
   "execution_count": 33,
   "metadata": {},
   "outputs": [
    {
     "data": {
      "text/plain": [
       "['mean para depth',\n",
       " 'Std para depth',\n",
       " 'Mean ISC score',\n",
       " 'Std ISC score',\n",
       " 'Mean ADD',\n",
       " 'Std Add']"
      ]
     },
     "execution_count": 33,
     "metadata": {},
     "output_type": "execute_result"
    }
   ],
   "source": [
    "sen_comp_features = rfecv(X, y)\n",
    "sen_comp_features"
   ]
  },
  {
   "cell_type": "code",
   "execution_count": 34,
   "metadata": {},
   "outputs": [
    {
     "name": "stdout",
     "output_type": "stream",
     "text": [
      "Finished iteration:  0\n",
      "Finished iteration:  1\n",
      "Finished iteration:  2\n",
      "Finished iteration:  3\n",
      "Finished iteration:  4\n",
      "Finished iteration:  5\n",
      "Finished iteration:  6\n",
      "Finished iteration:  7\n",
      "Finished iteration:  8\n",
      "Finished iteration:  9\n"
     ]
    },
    {
     "data": {
      "text/plain": [
       "{'Accuracy and std': '72.98013245033113 +/- 2.4783120884214034',\n",
       " 'F1 score fiction': (0.7379303189709656, 0.025824962625666303),\n",
       " 'F1 score nonfiction': (0.7208224034297589, 0.024931707213650317),\n",
       " 'Model': LogisticRegressionCV(cv=10, max_iter=10000, n_jobs=-1, penalty='l1',\n",
       "                      solver='liblinear'),\n",
       " 'random_state_value': 7}"
      ]
     },
     "execution_count": 34,
     "metadata": {},
     "output_type": "execute_result"
    }
   ],
   "source": [
    "sen_comp_measures = logistic(X, y)\n",
    "sen_comp_measures"
   ]
  },
  {
   "cell_type": "code",
   "execution_count": null,
   "metadata": {},
   "outputs": [],
   "source": []
  },
  {
   "cell_type": "markdown",
   "metadata": {},
   "source": [
    "### Dependency Relations"
   ]
  },
  {
   "cell_type": "code",
   "execution_count": 35,
   "metadata": {},
   "outputs": [],
   "source": [
    "df_dep_all = pd.read_csv('../data/brown_corpus_all_dep_features_no_punct.csv', index_col=0)"
   ]
  },
  {
   "cell_type": "code",
   "execution_count": 36,
   "metadata": {},
   "outputs": [
    {
     "data": {
      "text/plain": [
       "45"
      ]
     },
     "execution_count": 36,
     "metadata": {},
     "output_type": "execute_result"
    }
   ],
   "source": [
    "dep_rel_cols = [x for x in df_dep_all.columns if '(' not in x]\n",
    "len(dep_rel_cols)"
   ]
  },
  {
   "cell_type": "code",
   "execution_count": 37,
   "metadata": {},
   "outputs": [],
   "source": [
    "df_dep_rel = df_dep_all[dep_rel_cols]\n",
    "X = df_dep_rel.drop(columns=['label', 'id'])\n",
    "y = df_dep_rel.label"
   ]
  },
  {
   "cell_type": "code",
   "execution_count": 38,
   "metadata": {},
   "outputs": [
    {
     "name": "stdout",
     "output_type": "stream",
     "text": [
      "Finished iteration:  0\n",
      "Finished iteration:  1\n",
      "Finished iteration:  2\n",
      "Finished iteration:  3\n",
      "Finished iteration:  4\n",
      "Finished iteration:  5\n",
      "Finished iteration:  6\n",
      "Finished iteration:  7\n",
      "Finished iteration:  8\n",
      "Finished iteration:  9\n"
     ]
    },
    {
     "data": {
      "text/plain": [
       "{'Accuracy and std': '87.66004415011037 +/- 1.3371362225967158',\n",
       " 'F1 score fiction': (0.8813755747706074, 0.013277995469422736),\n",
       " 'F1 score nonfiction': (0.8712072820587375, 0.014611227787841675),\n",
       " 'Model': LogisticRegressionCV(cv=10, max_iter=10000, n_jobs=-1, penalty='l1',\n",
       "                      solver='liblinear'),\n",
       " 'random_state_value': 9}"
      ]
     },
     "execution_count": 38,
     "metadata": {},
     "output_type": "execute_result"
    }
   ],
   "source": [
    "dep_rel_measures = logistic(X, y)\n",
    "dep_rel_measures"
   ]
  },
  {
   "cell_type": "code",
   "execution_count": 39,
   "metadata": {},
   "outputs": [
    {
     "data": {
      "text/plain": [
       "12"
      ]
     },
     "execution_count": 39,
     "metadata": {},
     "output_type": "execute_result"
    }
   ],
   "source": [
    "## Removing coefficents 0 features\n",
    "coef_0_feat = []\n",
    "for feat, c in zip(X.columns, dep_rel_measures['Model'].coef_[0]):\n",
    "    if c == 0.0:\n",
    "        coef_0_feat.append(feat)\n",
    "len(coef_0_feat)"
   ]
  },
  {
   "cell_type": "code",
   "execution_count": 40,
   "metadata": {},
   "outputs": [
    {
     "data": {
      "text/plain": [
       "19"
      ]
     },
     "execution_count": 40,
     "metadata": {},
     "output_type": "execute_result"
    }
   ],
   "source": [
    "## Removing more redundant features using RFECV\n",
    "X_new = X.drop(coef_0_feat, axis=1)\n",
    "dep_rel_features = rfecv(X_new, y)\n",
    "len(dep_rel_features)"
   ]
  },
  {
   "cell_type": "code",
   "execution_count": 41,
   "metadata": {},
   "outputs": [
    {
     "name": "stdout",
     "output_type": "stream",
     "text": [
      "Finished iteration:  0\n",
      "Finished iteration:  1\n",
      "Finished iteration:  2\n",
      "Finished iteration:  3\n",
      "Finished iteration:  4\n",
      "Finished iteration:  5\n",
      "Finished iteration:  6\n",
      "Finished iteration:  7\n",
      "Finished iteration:  8\n",
      "Finished iteration:  9\n",
      "\n",
      "Score using optimal features: \n",
      "\n"
     ]
    },
    {
     "data": {
      "text/plain": [
       "{'Accuracy and std': '87.63796909492272 +/- 1.6724677196358333',\n",
       " 'F1 score fiction': (0.8803436157087121, 0.016997558628984007),\n",
       " 'F1 score nonfiction': (0.8719221051136143, 0.017451334265218738),\n",
       " 'Model': LogisticRegressionCV(cv=10, max_iter=10000, n_jobs=-1, penalty='l1',\n",
       "                      solver='liblinear'),\n",
       " 'random_state_value': 9}"
      ]
     },
     "execution_count": 41,
     "metadata": {},
     "output_type": "execute_result"
    }
   ],
   "source": [
    "dep_rel_measures = logistic(X[dep_rel_features], y)\n",
    "print('')\n",
    "print('Score using optimal features: \\n')\n",
    "dep_rel_measures"
   ]
  },
  {
   "cell_type": "code",
   "execution_count": null,
   "metadata": {},
   "outputs": [],
   "source": []
  },
  {
   "cell_type": "markdown",
   "metadata": {},
   "source": [
    "### Arguments/Adjuncts"
   ]
  },
  {
   "cell_type": "code",
   "execution_count": 59,
   "metadata": {},
   "outputs": [],
   "source": [
    "arguments = ['nsubj', 'obj', 'ccomp', 'conj', 'csubj:pass', 'iobj']"
   ]
  },
  {
   "cell_type": "code",
   "execution_count": 147,
   "metadata": {},
   "outputs": [],
   "source": [
    "def safe_divide(numerator, denominator):\n",
    "    index = 0 if denominator == 0 else numerator/denominator\n",
    "    return index"
   ]
  },
  {
   "cell_type": "code",
   "execution_count": 148,
   "metadata": {},
   "outputs": [],
   "source": [
    "X_arg_adj = []\n",
    "for k,v in df_dep_rel.iterrows():\n",
    "    arg = sum([v[x] for x in arguments])\n",
    "    adj = sum([v[x] for x in list(v.keys()) if x not in arguments and x not in ['id', 'label']])\n",
    "    X_arg_adj.append(safe_divide(arg, adj))"
   ]
  },
  {
   "cell_type": "code",
   "execution_count": 149,
   "metadata": {},
   "outputs": [],
   "source": [
    "X = np.asfarray(X_arg_adj).reshape(-1,1)\n",
    "y = df_dep_rel.label"
   ]
  },
  {
   "cell_type": "code",
   "execution_count": 151,
   "metadata": {},
   "outputs": [
    {
     "name": "stdout",
     "output_type": "stream",
     "text": [
      "Finished iteration:  0\n",
      "Finished iteration:  1\n",
      "Finished iteration:  2\n",
      "Finished iteration:  3\n",
      "Finished iteration:  4\n",
      "Finished iteration:  5\n",
      "Finished iteration:  6\n",
      "Finished iteration:  7\n",
      "Finished iteration:  8\n",
      "Finished iteration:  9\n"
     ]
    },
    {
     "data": {
      "text/plain": [
       "{'Accuracy and std': '78.14569536423842 +/- 1.3354952284551134',\n",
       " 'F1 score fiction': (0.7806710027174907, 0.015294010431654573),\n",
       " 'F1 score nonfiction': (0.7818497853213356, 0.014756841762154433),\n",
       " 'Model': LogisticRegressionCV(cv=10, max_iter=10000, n_jobs=-1, penalty='l1',\n",
       "                      solver='liblinear'),\n",
       " 'random_state_value': 9}"
      ]
     },
     "execution_count": 151,
     "metadata": {},
     "output_type": "execute_result"
    }
   ],
   "source": [
    "arg_adj_measures = logistic(X, y)\n",
    "arg_adj_measures\n"
   ]
  },
  {
   "cell_type": "code",
   "execution_count": null,
   "metadata": {},
   "outputs": [],
   "source": []
  },
  {
   "cell_type": "markdown",
   "metadata": {},
   "source": [
    "### Dependency Bigrams"
   ]
  },
  {
   "cell_type": "code",
   "execution_count": 95,
   "metadata": {},
   "outputs": [
    {
     "data": {
      "text/plain": [
       "303"
      ]
     },
     "execution_count": 95,
     "metadata": {},
     "output_type": "execute_result"
    }
   ],
   "source": [
    "dep_big_cols = [x for x in df_dep_all.columns if '(' in x]\n",
    "len(dep_big_cols)"
   ]
  },
  {
   "cell_type": "code",
   "execution_count": 96,
   "metadata": {},
   "outputs": [],
   "source": [
    "X = df_dep_all[dep_big_cols]\n",
    "y = df_dep_all.label"
   ]
  },
  {
   "cell_type": "code",
   "execution_count": 97,
   "metadata": {},
   "outputs": [
    {
     "name": "stderr",
     "output_type": "stream",
     "text": [
      "C:\\Users\\kazmi\\AppData\\Local\\Temp\\ipykernel_10712\\3287672305.py:5: FutureWarning: Series.__getitem__ treating keys as positions is deprecated. In a future version, integer keys will always be treated as labels (consistent with DataFrame behavior). To access a value by position, use `ser.iloc[pos]`\n",
      "  if variance[i] > 0.01: #setting the threshold as 1%\n"
     ]
    },
    {
     "data": {
      "text/plain": [
       "156"
      ]
     },
     "execution_count": 97,
     "metadata": {},
     "output_type": "execute_result"
    }
   ],
   "source": [
    "# Removing Low variance features from dependecy bigrams\n",
    "variance = X.var()\n",
    "variable = [ ]\n",
    "for i in range(0, len(variance)):\n",
    "    if variance[i] > 0.01: #setting the threshold as 1%\n",
    "        variable.append(X.columns[i])\n",
    "\n",
    "len(variable)"
   ]
  },
  {
   "cell_type": "code",
   "execution_count": 98,
   "metadata": {},
   "outputs": [
    {
     "name": "stdout",
     "output_type": "stream",
     "text": [
      "Finished iteration:  0\n",
      "Finished iteration:  1\n",
      "Finished iteration:  2\n",
      "Finished iteration:  3\n",
      "Finished iteration:  4\n",
      "Finished iteration:  5\n",
      "Finished iteration:  6\n",
      "Finished iteration:  7\n",
      "Finished iteration:  8\n",
      "Finished iteration:  9\n"
     ]
    },
    {
     "data": {
      "text/plain": [
       "{'Accuracy and std': '89.20529801324501 +/- 0.643214228888898',\n",
       " 'F1 score fiction': (0.8952570488735356, 0.007260265965214159),\n",
       " 'F1 score nonfiction': (0.8884431426402879, 0.007268740347909398),\n",
       " 'Model': LogisticRegressionCV(cv=10, max_iter=10000, n_jobs=-1, penalty='l1',\n",
       "                      solver='liblinear'),\n",
       " 'random_state_value': 9}"
      ]
     },
     "execution_count": 98,
     "metadata": {},
     "output_type": "execute_result"
    }
   ],
   "source": [
    "X_new = X[variable]\n",
    "dep_big_measures = logistic(X_new, y)\n",
    "dep_big_measures"
   ]
  },
  {
   "cell_type": "code",
   "execution_count": 99,
   "metadata": {},
   "outputs": [
    {
     "data": {
      "text/plain": [
       "97"
      ]
     },
     "execution_count": 99,
     "metadata": {},
     "output_type": "execute_result"
    }
   ],
   "source": [
    "## Removing coefficents 0 features\n",
    "coef_0_feat = []\n",
    "for feat, c in zip(X_new.columns, dep_big_measures['Model'].coef_[0]):\n",
    "    if c == 0.0:\n",
    "        coef_0_feat.append(feat)\n",
    "len(coef_0_feat)"
   ]
  },
  {
   "cell_type": "code",
   "execution_count": 100,
   "metadata": {},
   "outputs": [
    {
     "data": {
      "text/plain": [
       "37"
      ]
     },
     "execution_count": 100,
     "metadata": {},
     "output_type": "execute_result"
    }
   ],
   "source": [
    "## Removing more redundant features using RFECV\n",
    "X_iter_1 = X_new.drop(coef_0_feat, axis=1)\n",
    "dep_big_features = rfecv(X_iter_1, y)\n",
    "len(dep_big_features)"
   ]
  },
  {
   "cell_type": "code",
   "execution_count": 101,
   "metadata": {},
   "outputs": [
    {
     "name": "stdout",
     "output_type": "stream",
     "text": [
      "Finished iteration:  0\n",
      "Finished iteration:  1\n",
      "Finished iteration:  2\n",
      "Finished iteration:  3\n",
      "Finished iteration:  4\n",
      "Finished iteration:  5\n",
      "Finished iteration:  6\n",
      "Finished iteration:  7\n",
      "Finished iteration:  8\n",
      "Finished iteration:  9\n"
     ]
    },
    {
     "data": {
      "text/plain": [
       "{'Accuracy and std': '89.73509933774834 +/- 0.4442519160595592',\n",
       " 'F1 score fiction': (0.8999107646731055, 0.006165349013677593),\n",
       " 'F1 score nonfiction': (0.89439215745836, 0.005240597366908237),\n",
       " 'Model': LogisticRegressionCV(cv=10, max_iter=10000, n_jobs=-1, penalty='l1',\n",
       "                      solver='liblinear'),\n",
       " 'random_state_value': 3}"
      ]
     },
     "execution_count": 101,
     "metadata": {},
     "output_type": "execute_result"
    }
   ],
   "source": [
    "X_iter_2 = X[dep_big_features]\n",
    "dep_big_measures = logistic(X_iter_2, y)\n",
    "dep_big_measures"
   ]
  },
  {
   "cell_type": "code",
   "execution_count": 102,
   "metadata": {},
   "outputs": [
    {
     "data": {
      "text/plain": [
       "1"
      ]
     },
     "execution_count": 102,
     "metadata": {},
     "output_type": "execute_result"
    }
   ],
   "source": [
    "#Checking for any zero coefficient features\n",
    "## Removing coefficents 0 features\n",
    "coef_0_feat = []\n",
    "for feat, c in zip(X_iter_2.columns, dep_big_measures['Model'].coef_[0]):\n",
    "    if c == 0.0:\n",
    "        coef_0_feat.append(feat)\n",
    "len(coef_0_feat)"
   ]
  },
  {
   "cell_type": "code",
   "execution_count": 104,
   "metadata": {},
   "outputs": [
    {
     "name": "stdout",
     "output_type": "stream",
     "text": [
      "Finished iteration:  0\n",
      "Finished iteration:  1\n",
      "Finished iteration:  2\n",
      "Finished iteration:  3\n",
      "Finished iteration:  4\n",
      "Finished iteration:  5\n",
      "Finished iteration:  6\n",
      "Finished iteration:  7\n",
      "Finished iteration:  8\n",
      "Finished iteration:  9\n"
     ]
    },
    {
     "data": {
      "text/plain": [
       "{'Accuracy and std': '89.64679911699778 +/- 0.5536395675048318',\n",
       " 'F1 score fiction': (0.8990808340498576, 0.006493300963965882),\n",
       " 'F1 score nonfiction': (0.893442298747423, 0.006933407796588141),\n",
       " 'Model': LogisticRegressionCV(cv=10, max_iter=10000, n_jobs=-1, penalty='l1',\n",
       "                      solver='liblinear'),\n",
       " 'random_state_value': 3}"
      ]
     },
     "execution_count": 104,
     "metadata": {},
     "output_type": "execute_result"
    }
   ],
   "source": [
    "X_final = X_iter_2.drop(columns=coef_0_feat)\n",
    "dep_big_measures = logistic(X_final, y)\n",
    "dep_big_measures"
   ]
  },
  {
   "cell_type": "code",
   "execution_count": 105,
   "metadata": {},
   "outputs": [],
   "source": [
    "dep_big_features = list(X_final.columns)"
   ]
  },
  {
   "cell_type": "code",
   "execution_count": 110,
   "metadata": {},
   "outputs": [
    {
     "data": {
      "text/plain": [
       "62"
      ]
     },
     "execution_count": 110,
     "metadata": {},
     "output_type": "execute_result"
    }
   ],
   "source": [
    "syntactic_features = sen_comp_features  + ['arguments/adjuncts'] + dep_rel_features + dep_big_features\n",
    "len(syntactic_features)"
   ]
  },
  {
   "cell_type": "markdown",
   "metadata": {},
   "source": [
    "### All optimal features from each category"
   ]
  },
  {
   "cell_type": "code",
   "execution_count": 111,
   "metadata": {},
   "outputs": [
    {
     "data": {
      "text/plain": [
       "73"
      ]
     },
     "execution_count": 111,
     "metadata": {},
     "output_type": "execute_result"
    }
   ],
   "source": [
    "each_cat_optimal_feats = raw_features + lex_div_features + pos_features +syntactic_features\n",
    "len(each_cat_optimal_feats)"
   ]
  },
  {
   "cell_type": "code",
   "execution_count": null,
   "metadata": {},
   "outputs": [],
   "source": []
  },
  {
   "cell_type": "markdown",
   "metadata": {},
   "source": [
    "## Combining Feature sets"
   ]
  },
  {
   "cell_type": "markdown",
   "metadata": {},
   "source": [
    "### Charachter Diversity + POS features"
   ]
  },
  {
   "cell_type": "code",
   "execution_count": 112,
   "metadata": {},
   "outputs": [
    {
     "data": {
      "text/plain": [
       "['TTR',\n",
       " 'Maas TTR',\n",
       " 'MTLD',\n",
       " 'VocD',\n",
       " 'adverb/noun',\n",
       " 'adverb/pronoun',\n",
       " 'adjective/pronoun',\n",
       " 'noun/verb']"
      ]
     },
     "execution_count": 112,
     "metadata": {},
     "output_type": "execute_result"
    }
   ],
   "source": [
    "cd_pos_features = char_div_features + pos_features\n",
    "cd_pos_features"
   ]
  },
  {
   "cell_type": "code",
   "execution_count": 132,
   "metadata": {},
   "outputs": [],
   "source": [
    "df_cd_pos = pd.concat([X_scale_df[char_div_features], df_pos_ratios[pos_features]], axis=1, join='inner')"
   ]
  },
  {
   "cell_type": "code",
   "execution_count": 128,
   "metadata": {},
   "outputs": [],
   "source": [
    "X = df_cd_pos\n",
    "y = df_pos_ratios.label"
   ]
  },
  {
   "cell_type": "code",
   "execution_count": 130,
   "metadata": {},
   "outputs": [
    {
     "data": {
      "text/plain": [
       "['TTR',\n",
       " 'Maas TTR',\n",
       " 'VocD',\n",
       " 'adverb/noun',\n",
       " 'adverb/pronoun',\n",
       " 'adjective/pronoun',\n",
       " 'noun/verb']"
      ]
     },
     "execution_count": 130,
     "metadata": {},
     "output_type": "execute_result"
    }
   ],
   "source": [
    "#Rfecv\n",
    "cd_pos_best_feats = rfecv(X, y)\n",
    "cd_pos_best_feats"
   ]
  },
  {
   "cell_type": "code",
   "execution_count": 131,
   "metadata": {},
   "outputs": [
    {
     "name": "stdout",
     "output_type": "stream",
     "text": [
      "Finished iteration:  0\n",
      "Finished iteration:  1\n",
      "Finished iteration:  2\n",
      "Finished iteration:  3\n",
      "Finished iteration:  4\n",
      "Finished iteration:  5\n",
      "Finished iteration:  6\n",
      "Finished iteration:  7\n",
      "Finished iteration:  8\n",
      "Finished iteration:  9\n"
     ]
    },
    {
     "data": {
      "text/plain": [
       "{'Accuracy and std': '86.99779249448125 +/- 1.2068818483740937',\n",
       " 'F1 score fiction': (0.8748494886447581, 0.012022906728909629),\n",
       " 'F1 score nonfiction': (0.8645352307022435, 0.012917738963303374),\n",
       " 'Model': LogisticRegressionCV(cv=10, max_iter=10000, n_jobs=-1, penalty='l1',\n",
       "                      solver='liblinear'),\n",
       " 'random_state_value': 2}"
      ]
     },
     "execution_count": 131,
     "metadata": {},
     "output_type": "execute_result"
    }
   ],
   "source": [
    "X_final = X[cd_pos_best_feats]\n",
    "cd_pos_measures = logistic(X_final, y)\n",
    "cd_pos_measures"
   ]
  },
  {
   "cell_type": "code",
   "execution_count": null,
   "metadata": {},
   "outputs": [],
   "source": []
  },
  {
   "cell_type": "markdown",
   "metadata": {},
   "source": [
    "### Charachter Diversity + POS features + Sentence Complexity "
   ]
  },
  {
   "cell_type": "code",
   "execution_count": 133,
   "metadata": {},
   "outputs": [
    {
     "data": {
      "text/plain": [
       "['TTR',\n",
       " 'Maas TTR',\n",
       " 'VocD',\n",
       " 'adverb/noun',\n",
       " 'adverb/pronoun',\n",
       " 'adjective/pronoun',\n",
       " 'noun/verb',\n",
       " 'mean para depth',\n",
       " 'Std para depth',\n",
       " 'Mean ISC score',\n",
       " 'Std ISC score',\n",
       " 'Mean ADD',\n",
       " 'Std Add']"
      ]
     },
     "execution_count": 133,
     "metadata": {},
     "output_type": "execute_result"
    }
   ],
   "source": [
    "cd_pos_sen_features = cd_pos_best_feats + sen_comp_features\n",
    "cd_pos_sen_features"
   ]
  },
  {
   "cell_type": "code",
   "execution_count": 135,
   "metadata": {},
   "outputs": [
    {
     "data": {
      "text/html": [
       "<div>\n",
       "<style scoped>\n",
       "    .dataframe tbody tr th:only-of-type {\n",
       "        vertical-align: middle;\n",
       "    }\n",
       "\n",
       "    .dataframe tbody tr th {\n",
       "        vertical-align: top;\n",
       "    }\n",
       "\n",
       "    .dataframe thead th {\n",
       "        text-align: right;\n",
       "    }\n",
       "</style>\n",
       "<table border=\"1\" class=\"dataframe\">\n",
       "  <thead>\n",
       "    <tr style=\"text-align: right;\">\n",
       "      <th></th>\n",
       "      <th>TTR</th>\n",
       "      <th>Maas TTR</th>\n",
       "      <th>MTLD</th>\n",
       "      <th>VocD</th>\n",
       "      <th>adverb/noun</th>\n",
       "      <th>adverb/pronoun</th>\n",
       "      <th>adjective/pronoun</th>\n",
       "      <th>noun/verb</th>\n",
       "      <th>id</th>\n",
       "      <th>label</th>\n",
       "      <th>mean para depth</th>\n",
       "      <th>Std para depth</th>\n",
       "      <th>Mean ISC score</th>\n",
       "      <th>Std ISC score</th>\n",
       "      <th>Mean ADD</th>\n",
       "      <th>Std Add</th>\n",
       "    </tr>\n",
       "  </thead>\n",
       "  <tbody>\n",
       "    <tr>\n",
       "      <th>0</th>\n",
       "      <td>-0.210861</td>\n",
       "      <td>0.584670</td>\n",
       "      <td>1.414953</td>\n",
       "      <td>-0.211797</td>\n",
       "      <td>0.176471</td>\n",
       "      <td>0.375000</td>\n",
       "      <td>0.625000</td>\n",
       "      <td>1.888889</td>\n",
       "      <td>cn01_para_5</td>\n",
       "      <td>1</td>\n",
       "      <td>0.850594</td>\n",
       "      <td>0.274388</td>\n",
       "      <td>7.4</td>\n",
       "      <td>4.498889</td>\n",
       "      <td>2.297117</td>\n",
       "      <td>0.152998</td>\n",
       "    </tr>\n",
       "    <tr>\n",
       "      <th>1</th>\n",
       "      <td>-0.565980</td>\n",
       "      <td>1.453096</td>\n",
       "      <td>-0.726583</td>\n",
       "      <td>-1.547109</td>\n",
       "      <td>0.642857</td>\n",
       "      <td>0.600000</td>\n",
       "      <td>0.333333</td>\n",
       "      <td>0.933333</td>\n",
       "      <td>cn01_para_7</td>\n",
       "      <td>1</td>\n",
       "      <td>0.711363</td>\n",
       "      <td>0.331525</td>\n",
       "      <td>8.0</td>\n",
       "      <td>3.521363</td>\n",
       "      <td>2.396247</td>\n",
       "      <td>0.410500</td>\n",
       "    </tr>\n",
       "    <tr>\n",
       "      <th>2</th>\n",
       "      <td>1.805616</td>\n",
       "      <td>0.142680</td>\n",
       "      <td>-1.111640</td>\n",
       "      <td>-0.388829</td>\n",
       "      <td>0.000000</td>\n",
       "      <td>0.000000</td>\n",
       "      <td>0.200000</td>\n",
       "      <td>1.333333</td>\n",
       "      <td>cn01_para_9</td>\n",
       "      <td>1</td>\n",
       "      <td>0.501667</td>\n",
       "      <td>0.355918</td>\n",
       "      <td>3.2</td>\n",
       "      <td>1.720465</td>\n",
       "      <td>1.800220</td>\n",
       "      <td>0.578061</td>\n",
       "    </tr>\n",
       "    <tr>\n",
       "      <th>3</th>\n",
       "      <td>0.017894</td>\n",
       "      <td>0.438045</td>\n",
       "      <td>-2.098251</td>\n",
       "      <td>-0.835455</td>\n",
       "      <td>0.600000</td>\n",
       "      <td>0.352941</td>\n",
       "      <td>0.411765</td>\n",
       "      <td>1.000000</td>\n",
       "      <td>cn01_para_12</td>\n",
       "      <td>1</td>\n",
       "      <td>0.962607</td>\n",
       "      <td>0.344610</td>\n",
       "      <td>4.8</td>\n",
       "      <td>2.039608</td>\n",
       "      <td>2.459762</td>\n",
       "      <td>0.501762</td>\n",
       "    </tr>\n",
       "    <tr>\n",
       "      <th>4</th>\n",
       "      <td>1.440927</td>\n",
       "      <td>-0.329136</td>\n",
       "      <td>0.625474</td>\n",
       "      <td>1.259070</td>\n",
       "      <td>0.666667</td>\n",
       "      <td>0.400000</td>\n",
       "      <td>0.300000</td>\n",
       "      <td>0.857143</td>\n",
       "      <td>cn01_para_40</td>\n",
       "      <td>1</td>\n",
       "      <td>0.900000</td>\n",
       "      <td>0.502340</td>\n",
       "      <td>2.8</td>\n",
       "      <td>1.469694</td>\n",
       "      <td>2.272727</td>\n",
       "      <td>0.636648</td>\n",
       "    </tr>\n",
       "  </tbody>\n",
       "</table>\n",
       "</div>"
      ],
      "text/plain": [
       "        TTR  Maas TTR      MTLD      VocD  adverb/noun  adverb/pronoun  \\\n",
       "0 -0.210861  0.584670  1.414953 -0.211797     0.176471        0.375000   \n",
       "1 -0.565980  1.453096 -0.726583 -1.547109     0.642857        0.600000   \n",
       "2  1.805616  0.142680 -1.111640 -0.388829     0.000000        0.000000   \n",
       "3  0.017894  0.438045 -2.098251 -0.835455     0.600000        0.352941   \n",
       "4  1.440927 -0.329136  0.625474  1.259070     0.666667        0.400000   \n",
       "\n",
       "   adjective/pronoun  noun/verb            id  label  mean para depth  \\\n",
       "0           0.625000   1.888889   cn01_para_5      1         0.850594   \n",
       "1           0.333333   0.933333   cn01_para_7      1         0.711363   \n",
       "2           0.200000   1.333333   cn01_para_9      1         0.501667   \n",
       "3           0.411765   1.000000  cn01_para_12      1         0.962607   \n",
       "4           0.300000   0.857143  cn01_para_40      1         0.900000   \n",
       "\n",
       "   Std para depth  Mean ISC score  Std ISC score  Mean ADD   Std Add  \n",
       "0        0.274388             7.4       4.498889  2.297117  0.152998  \n",
       "1        0.331525             8.0       3.521363  2.396247  0.410500  \n",
       "2        0.355918             3.2       1.720465  1.800220  0.578061  \n",
       "3        0.344610             4.8       2.039608  2.459762  0.501762  \n",
       "4        0.502340             2.8       1.469694  2.272727  0.636648  "
      ]
     },
     "execution_count": 135,
     "metadata": {},
     "output_type": "execute_result"
    }
   ],
   "source": [
    "df_cd_pos_sen = pd.concat([df_cd_pos, df_sen_comp], axis=1, join='inner')\n",
    "df_cd_pos_sen.head()"
   ]
  },
  {
   "cell_type": "code",
   "execution_count": 136,
   "metadata": {},
   "outputs": [],
   "source": [
    "X = df_cd_pos_sen.drop(columns=['id', 'label'])\n",
    "y = df_cd_pos_sen.label"
   ]
  },
  {
   "cell_type": "code",
   "execution_count": 138,
   "metadata": {},
   "outputs": [
    {
     "data": {
      "text/plain": [
       "['TTR',\n",
       " 'Maas TTR',\n",
       " 'VocD',\n",
       " 'adverb/noun',\n",
       " 'adverb/pronoun',\n",
       " 'adjective/pronoun',\n",
       " 'noun/verb',\n",
       " 'mean para depth']"
      ]
     },
     "execution_count": 138,
     "metadata": {},
     "output_type": "execute_result"
    }
   ],
   "source": [
    "#RFECV\n",
    "cd_pos_sen_best_feats = rfecv(X, y)\n",
    "cd_pos_sen_best_feats"
   ]
  },
  {
   "cell_type": "code",
   "execution_count": 139,
   "metadata": {},
   "outputs": [
    {
     "name": "stdout",
     "output_type": "stream",
     "text": [
      "Finished iteration:  0\n",
      "Finished iteration:  1\n",
      "Finished iteration:  2\n",
      "Finished iteration:  3\n",
      "Finished iteration:  4\n",
      "Finished iteration:  5\n",
      "Finished iteration:  6\n",
      "Finished iteration:  7\n",
      "Finished iteration:  8\n",
      "Finished iteration:  9\n"
     ]
    },
    {
     "data": {
      "text/plain": [
       "{'Accuracy and std': '86.55629139072849 +/- 0.9845078640608275',\n",
       " 'F1 score fiction': (0.869762614144245, 0.010735219247266996),\n",
       " 'F1 score nonfiction': (0.8608887271363785, 0.010041644780846728),\n",
       " 'Model': LogisticRegressionCV(cv=10, max_iter=10000, n_jobs=-1, penalty='l1',\n",
       "                      solver='liblinear'),\n",
       " 'random_state_value': 3}"
      ]
     },
     "execution_count": 139,
     "metadata": {},
     "output_type": "execute_result"
    }
   ],
   "source": [
    "cd_pos_sen_measures = logistic(X[cd_pos_sen_best_feats], y)\n",
    "cd_pos_sen_measures"
   ]
  },
  {
   "cell_type": "code",
   "execution_count": null,
   "metadata": {},
   "outputs": [],
   "source": []
  },
  {
   "cell_type": "markdown",
   "metadata": {},
   "source": [
    "## Final Model finding best feature sets"
   ]
  },
  {
   "cell_type": "code",
   "execution_count": 177,
   "metadata": {},
   "outputs": [],
   "source": [
    "optimal_feats = raw_features + cd_pos_sen_best_feats + dep_rel_features + dep_big_features"
   ]
  },
  {
   "cell_type": "code",
   "execution_count": 197,
   "metadata": {},
   "outputs": [],
   "source": [
    "df_final = pd.concat([df_cd_pos_sen[cd_pos_sen_best_feats], df_dep_all[dep_rel_features], df_dep_all[dep_big_features]], axis=1, join='inner')\n",
    "df_final['arguments/adjuncts'] = X_arg_adj"
   ]
  },
  {
   "cell_type": "code",
   "execution_count": 198,
   "metadata": {},
   "outputs": [
    {
     "data": {
      "text/plain": [
       "Index(['TTR', 'Maas TTR', 'VocD', 'adverb/noun', 'adverb/pronoun',\n",
       "       'adjective/pronoun', 'noun/verb', 'mean para depth', 'mark', 'amod',\n",
       "       'nmod', 'nsubj', 'nummod', 'xcomp', 'acl:relcl', 'nmod:poss', 'cop',\n",
       "       'compound:prt', 'flat', 'compound', 'fixed', 'aux:pass', 'obl:npmod',\n",
       "       'iobj', 'cc:preconj', 'discourse', 'list', '('NOUN', 'SCONJ', 'after')',\n",
       "       '('NOUN', 'ADJ', 'after')', '('NOUN', 'NOUN', 'before')',\n",
       "       '('VERB', 'PRON', 'after')', '('NOUN', 'NUM', 'after')',\n",
       "       '('VERB', 'NOUN', 'before')', '('VERB', 'VERB', 'before')',\n",
       "       '('VERB', 'CCONJ', 'after')', '('VERB', 'ADV', 'before')',\n",
       "       '('NOUN', 'PRON', 'after')', '('VERB', 'PROPN', 'after')',\n",
       "       '('VERB', 'ADP', 'before')', '('PROPN', 'PROPN', 'before')',\n",
       "       '('ADJ', 'SCONJ', 'after')', '('ADJ', 'ADV', 'before')',\n",
       "       '('NOUN', 'NOUN', 'after')', '('VERB', 'PRON', 'before')',\n",
       "       '('VERB', 'ADV', 'after')', '('ADJ', 'ADJ', 'before')',\n",
       "       '('VERB', 'SCONJ', 'after')', '('VERB', 'PART', 'after')',\n",
       "       '('ADV', 'PRON', 'after')', '('ADJ', 'PROPN', 'before')',\n",
       "       '('PRON', 'VERB', 'before')', '('VERB', 'NUM', 'after')',\n",
       "       '('NOUN', 'NUM', 'before')', '('PROPN', 'NOUN', 'before')',\n",
       "       '('PRON', 'NOUN', 'before')', '('NUM', 'AUX', 'after')',\n",
       "       '('PROPN', 'NUM', 'before')', '('PROPN', 'PROPN', 'after')',\n",
       "       '('ADV', 'ADV', 'before')', '('VERB', 'NUM', 'before')',\n",
       "       '('PRON', 'ADV', 'after')', '('VERB', 'INTJ', 'after')',\n",
       "       '('ADV', 'CCONJ', 'after')', 'arguments/adjuncts'],\n",
       "      dtype='object')"
      ]
     },
     "execution_count": 198,
     "metadata": {},
     "output_type": "execute_result"
    }
   ],
   "source": [
    "df_final.columns"
   ]
  },
  {
   "cell_type": "code",
   "execution_count": 199,
   "metadata": {},
   "outputs": [],
   "source": [
    "X = df_final\n",
    "y = df_dep_all.label"
   ]
  },
  {
   "cell_type": "code",
   "execution_count": 200,
   "metadata": {},
   "outputs": [
    {
     "name": "stdout",
     "output_type": "stream",
     "text": [
      "Finished iteration:  0\n",
      "Finished iteration:  1\n",
      "Finished iteration:  2\n",
      "Finished iteration:  3\n",
      "Finished iteration:  4\n",
      "Finished iteration:  5\n",
      "Finished iteration:  6\n",
      "Finished iteration:  7\n",
      "Finished iteration:  8\n",
      "Finished iteration:  9\n"
     ]
    },
    {
     "data": {
      "text/plain": [
       "{'Accuracy and std': '90.72847682119205 +/- 0.683970568866652',\n",
       " 'F1 score fiction': (0.9098859773869876, 0.008000613362883805),\n",
       " 'F1 score nonfiction': (0.9043352995739348, 0.006834459714276788),\n",
       " 'Model': LogisticRegressionCV(cv=10, max_iter=10000, n_jobs=-1, penalty='l1',\n",
       "                      solver='liblinear'),\n",
       " 'random_state_value': 0}"
      ]
     },
     "execution_count": 200,
     "metadata": {},
     "output_type": "execute_result"
    }
   ],
   "source": [
    "#LR\n",
    "final_measures = logistic(X, y)\n",
    "final_measures"
   ]
  },
  {
   "cell_type": "code",
   "execution_count": 201,
   "metadata": {},
   "outputs": [
    {
     "data": {
      "text/plain": [
       "26"
      ]
     },
     "execution_count": 201,
     "metadata": {},
     "output_type": "execute_result"
    }
   ],
   "source": [
    "#Checking for any zero coefficient features\n",
    "## Removing coefficents 0 features\n",
    "coef_0_feat = []\n",
    "for feat, c in zip(X.columns, final_measures['Model'].coef_[0]):\n",
    "    if c == 0.0:\n",
    "        coef_0_feat.append(feat)\n",
    "len(coef_0_feat)"
   ]
  },
  {
   "cell_type": "code",
   "execution_count": 202,
   "metadata": {},
   "outputs": [
    {
     "data": {
      "text/plain": [
       "26"
      ]
     },
     "execution_count": 202,
     "metadata": {},
     "output_type": "execute_result"
    }
   ],
   "source": [
    "X_iter_1 = X.drop(columns=coef_0_feat)\n",
    "final_best_feats = rfecv(X_iter_1, y)\n",
    "len(final_best_feats)"
   ]
  },
  {
   "cell_type": "code",
   "execution_count": 203,
   "metadata": {},
   "outputs": [],
   "source": [
    "## Adding Raw Features & Lexical Density features\n",
    "df_final_raw_conc_func = pd.concat([df_final[final_best_feats], df_sen_len, df_con_func.drop(columns=['id', 'label'])], axis=1, join='inner')"
   ]
  },
  {
   "cell_type": "code",
   "execution_count": 204,
   "metadata": {},
   "outputs": [
    {
     "data": {
      "text/plain": [
       "Index(['TTR', 'Maas TTR', 'VocD', 'adverb/pronoun', 'noun/verb', 'mark',\n",
       "       'nsubj', 'nummod', 'acl:relcl', 'nmod:poss', 'flat', 'fixed',\n",
       "       'aux:pass', 'obl:npmod', 'discourse', '('VERB', 'ADV', 'before')',\n",
       "       '('VERB', 'PROPN', 'after')', '('VERB', 'ADP', 'before')',\n",
       "       '('ADJ', 'SCONJ', 'after')', '('VERB', 'PRON', 'before')',\n",
       "       '('VERB', 'SCONJ', 'after')', '('PRON', 'VERB', 'before')',\n",
       "       '('PRON', 'NOUN', 'before')', '('PROPN', 'NUM', 'before')',\n",
       "       '('PROPN', 'PROPN', 'after')', '('VERB', 'NUM', 'before')', 'id',\n",
       "       'label', 'avg_sen_len', 'std_sen_len', 'content/function'],\n",
       "      dtype='object')"
      ]
     },
     "execution_count": 204,
     "metadata": {},
     "output_type": "execute_result"
    }
   ],
   "source": [
    "df_final_raw_conc_func.columns"
   ]
  },
  {
   "cell_type": "code",
   "execution_count": 205,
   "metadata": {},
   "outputs": [],
   "source": [
    "X = df_final_raw_conc_func.drop(columns=['id', 'label'])\n",
    "y = df_final_raw_conc_func.label"
   ]
  },
  {
   "cell_type": "code",
   "execution_count": 206,
   "metadata": {},
   "outputs": [
    {
     "data": {
      "text/plain": [
       "28"
      ]
     },
     "execution_count": 206,
     "metadata": {},
     "output_type": "execute_result"
    }
   ],
   "source": [
    "#RFECV\n",
    "final_optimal_features = rfecv(X, y)\n",
    "len(final_optimal_features)"
   ]
  },
  {
   "cell_type": "code",
   "execution_count": 207,
   "metadata": {},
   "outputs": [
    {
     "name": "stdout",
     "output_type": "stream",
     "text": [
      "Finished iteration:  0\n",
      "Finished iteration:  1\n",
      "Finished iteration:  2\n",
      "Finished iteration:  3\n",
      "Finished iteration:  4\n",
      "Finished iteration:  5\n",
      "Finished iteration:  6\n",
      "Finished iteration:  7\n",
      "Finished iteration:  8\n",
      "Finished iteration:  9\n",
      "\n",
      "The final best scores with 28 features is: \n"
     ]
    },
    {
     "data": {
      "text/plain": [
       "{'Accuracy and std': '91.89845474613685 +/- 0.8832781025934917',\n",
       " 'F1 score fiction': (0.9212540893112691, 0.009731225772465742),\n",
       " 'F1 score nonfiction': (0.9164325316587568, 0.008464976166045359),\n",
       " 'Model': LogisticRegressionCV(cv=10, max_iter=10000, n_jobs=-1, penalty='l1',\n",
       "                      solver='liblinear'),\n",
       " 'random_state_value': 9}"
      ]
     },
     "execution_count": 207,
     "metadata": {},
     "output_type": "execute_result"
    }
   ],
   "source": [
    "final_best_score = logistic(X[final_optimal_features], y)\n",
    "print()\n",
    "print('The final best scores with 28 features is: ')\n",
    "final_best_score"
   ]
  },
  {
   "cell_type": "code",
   "execution_count": 208,
   "metadata": {},
   "outputs": [],
   "source": [
    "## Coefficents of each features\n",
    "feat_coef = {}\n",
    "for feat, c in zip(X[final_optimal_features], final_best_score['Model'].coef_[0]):\n",
    "    feat_coef[feat] = c"
   ]
  },
  {
   "cell_type": "code",
   "execution_count": 211,
   "metadata": {},
   "outputs": [
    {
     "data": {
      "text/html": [
       "<div>\n",
       "<style scoped>\n",
       "    .dataframe tbody tr th:only-of-type {\n",
       "        vertical-align: middle;\n",
       "    }\n",
       "\n",
       "    .dataframe tbody tr th {\n",
       "        vertical-align: top;\n",
       "    }\n",
       "\n",
       "    .dataframe thead th {\n",
       "        text-align: right;\n",
       "    }\n",
       "</style>\n",
       "<table border=\"1\" class=\"dataframe\">\n",
       "  <thead>\n",
       "    <tr style=\"text-align: right;\">\n",
       "      <th></th>\n",
       "      <th>feature</th>\n",
       "      <th>coefficent</th>\n",
       "    </tr>\n",
       "  </thead>\n",
       "  <tbody>\n",
       "    <tr>\n",
       "      <th>0</th>\n",
       "      <td>TTR</td>\n",
       "      <td>2.313381</td>\n",
       "    </tr>\n",
       "    <tr>\n",
       "      <th>1</th>\n",
       "      <td>Maas TTR</td>\n",
       "      <td>1.696059</td>\n",
       "    </tr>\n",
       "    <tr>\n",
       "      <th>2</th>\n",
       "      <td>discourse</td>\n",
       "      <td>1.165903</td>\n",
       "    </tr>\n",
       "    <tr>\n",
       "      <th>3</th>\n",
       "      <td>('VERB', 'PROPN', 'after')</td>\n",
       "      <td>0.590005</td>\n",
       "    </tr>\n",
       "    <tr>\n",
       "      <th>4</th>\n",
       "      <td>('VERB', 'ADV', 'before')</td>\n",
       "      <td>0.435330</td>\n",
       "    </tr>\n",
       "    <tr>\n",
       "      <th>5</th>\n",
       "      <td>nsubj</td>\n",
       "      <td>0.427367</td>\n",
       "    </tr>\n",
       "    <tr>\n",
       "      <th>6</th>\n",
       "      <td>VocD</td>\n",
       "      <td>0.378671</td>\n",
       "    </tr>\n",
       "    <tr>\n",
       "      <th>7</th>\n",
       "      <td>('VERB', 'PRON', 'before')</td>\n",
       "      <td>0.311756</td>\n",
       "    </tr>\n",
       "    <tr>\n",
       "      <th>8</th>\n",
       "      <td>('VERB', 'ADP', 'before')</td>\n",
       "      <td>0.305685</td>\n",
       "    </tr>\n",
       "    <tr>\n",
       "      <th>9</th>\n",
       "      <td>obl:npmod</td>\n",
       "      <td>0.198417</td>\n",
       "    </tr>\n",
       "    <tr>\n",
       "      <th>10</th>\n",
       "      <td>nmod:poss</td>\n",
       "      <td>0.192435</td>\n",
       "    </tr>\n",
       "    <tr>\n",
       "      <th>11</th>\n",
       "      <td>std_sen_len</td>\n",
       "      <td>0.106447</td>\n",
       "    </tr>\n",
       "    <tr>\n",
       "      <th>12</th>\n",
       "      <td>nummod</td>\n",
       "      <td>-0.117010</td>\n",
       "    </tr>\n",
       "    <tr>\n",
       "      <th>13</th>\n",
       "      <td>mark</td>\n",
       "      <td>-0.179441</td>\n",
       "    </tr>\n",
       "    <tr>\n",
       "      <th>14</th>\n",
       "      <td>adverb/pronoun</td>\n",
       "      <td>-0.193937</td>\n",
       "    </tr>\n",
       "    <tr>\n",
       "      <th>15</th>\n",
       "      <td>aux:pass</td>\n",
       "      <td>-0.201880</td>\n",
       "    </tr>\n",
       "    <tr>\n",
       "      <th>16</th>\n",
       "      <td>('PROPN', 'PROPN', 'after')</td>\n",
       "      <td>-0.298693</td>\n",
       "    </tr>\n",
       "    <tr>\n",
       "      <th>17</th>\n",
       "      <td>('VERB', 'SCONJ', 'after')</td>\n",
       "      <td>-0.313431</td>\n",
       "    </tr>\n",
       "    <tr>\n",
       "      <th>18</th>\n",
       "      <td>flat</td>\n",
       "      <td>-0.326677</td>\n",
       "    </tr>\n",
       "    <tr>\n",
       "      <th>19</th>\n",
       "      <td>('VERB', 'NUM', 'before')</td>\n",
       "      <td>-0.452739</td>\n",
       "    </tr>\n",
       "    <tr>\n",
       "      <th>20</th>\n",
       "      <td>acl:relcl</td>\n",
       "      <td>-0.494266</td>\n",
       "    </tr>\n",
       "    <tr>\n",
       "      <th>21</th>\n",
       "      <td>('PRON', 'NOUN', 'before')</td>\n",
       "      <td>-0.568761</td>\n",
       "    </tr>\n",
       "    <tr>\n",
       "      <th>22</th>\n",
       "      <td>noun/verb</td>\n",
       "      <td>-0.682466</td>\n",
       "    </tr>\n",
       "    <tr>\n",
       "      <th>23</th>\n",
       "      <td>fixed</td>\n",
       "      <td>-0.704272</td>\n",
       "    </tr>\n",
       "    <tr>\n",
       "      <th>24</th>\n",
       "      <td>('PRON', 'VERB', 'before')</td>\n",
       "      <td>-0.738935</td>\n",
       "    </tr>\n",
       "    <tr>\n",
       "      <th>25</th>\n",
       "      <td>('ADJ', 'SCONJ', 'after')</td>\n",
       "      <td>-0.785416</td>\n",
       "    </tr>\n",
       "    <tr>\n",
       "      <th>26</th>\n",
       "      <td>('PROPN', 'NUM', 'before')</td>\n",
       "      <td>-1.464357</td>\n",
       "    </tr>\n",
       "    <tr>\n",
       "      <th>27</th>\n",
       "      <td>content/function</td>\n",
       "      <td>-5.824010</td>\n",
       "    </tr>\n",
       "  </tbody>\n",
       "</table>\n",
       "</div>"
      ],
      "text/plain": [
       "                        feature  coefficent\n",
       "0                           TTR    2.313381\n",
       "1                      Maas TTR    1.696059\n",
       "2                     discourse    1.165903\n",
       "3    ('VERB', 'PROPN', 'after')    0.590005\n",
       "4     ('VERB', 'ADV', 'before')    0.435330\n",
       "5                         nsubj    0.427367\n",
       "6                          VocD    0.378671\n",
       "7    ('VERB', 'PRON', 'before')    0.311756\n",
       "8     ('VERB', 'ADP', 'before')    0.305685\n",
       "9                     obl:npmod    0.198417\n",
       "10                    nmod:poss    0.192435\n",
       "11                  std_sen_len    0.106447\n",
       "12                       nummod   -0.117010\n",
       "13                         mark   -0.179441\n",
       "14               adverb/pronoun   -0.193937\n",
       "15                     aux:pass   -0.201880\n",
       "16  ('PROPN', 'PROPN', 'after')   -0.298693\n",
       "17   ('VERB', 'SCONJ', 'after')   -0.313431\n",
       "18                         flat   -0.326677\n",
       "19    ('VERB', 'NUM', 'before')   -0.452739\n",
       "20                    acl:relcl   -0.494266\n",
       "21   ('PRON', 'NOUN', 'before')   -0.568761\n",
       "22                    noun/verb   -0.682466\n",
       "23                        fixed   -0.704272\n",
       "24   ('PRON', 'VERB', 'before')   -0.738935\n",
       "25    ('ADJ', 'SCONJ', 'after')   -0.785416\n",
       "26   ('PROPN', 'NUM', 'before')   -1.464357\n",
       "27             content/function   -5.824010"
      ]
     },
     "execution_count": 211,
     "metadata": {},
     "output_type": "execute_result"
    }
   ],
   "source": [
    "sorted_coef = {k: v for k, v in sorted(feat_coef.items(), key=lambda item: item[1])}\n",
    "sorted_feat_coef = pd.DataFrame(final_optimal_features, columns=['feature'])\n",
    "sorted_feat_coef['coefficent'] = pd.DataFrame(final_best_score['Model'].coef_[0])\n",
    "sorted_feat_coef = sorted_feat_coef.sort_values(by = [\"coefficent\"], ascending=False)\n",
    "sorted_feat_coef.reset_index().drop('index', axis=1)"
   ]
  },
  {
   "cell_type": "code",
   "execution_count": null,
   "metadata": {},
   "outputs": [],
   "source": []
  }
 ],
 "metadata": {
  "kernelspec": {
   "display_name": "thesis_env",
   "language": "python",
   "name": "python3"
  },
  "language_info": {
   "codemirror_mode": {
    "name": "ipython",
    "version": 3
   },
   "file_extension": ".py",
   "mimetype": "text/x-python",
   "name": "python",
   "nbconvert_exporter": "python",
   "pygments_lexer": "ipython3",
   "version": "3.11.6"
  }
 },
 "nbformat": 4,
 "nbformat_minor": 2
}
